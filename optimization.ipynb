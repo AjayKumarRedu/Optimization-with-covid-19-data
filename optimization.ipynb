{
  "cells": [
    {
      "cell_type": "code",
      "execution_count": 3,
      "metadata": {
        "id": "jneKwsy7kaMu"
      },
      "outputs": [],
      "source": [
        "import pandas as pd\n",
        "import numpy as np\n",
        "import seaborn as sns \n",
        "import matplotlib.pyplot as plt"
      ]
    },
    {
      "cell_type": "code",
      "execution_count": 4,
      "metadata": {
        "id": "cJaxyLzikd3D"
      },
      "outputs": [],
      "source": [
        "df=pd.read_csv('/myData.tVaccMi.csv')"
      ]
    },
    {
      "cell_type": "code",
      "source": [
        "from google.colab import drive\n",
        "drive.mount('/content/drive')"
      ],
      "metadata": {
        "id": "lpIdWnQdGFw_",
        "colab": {
          "base_uri": "https://localhost:8080/"
        },
        "outputId": "e98aaf42-d393-40eb-b54e-baa83f09c3d4"
      },
      "execution_count": 5,
      "outputs": [
        {
          "output_type": "stream",
          "name": "stdout",
          "text": [
            "Drive already mounted at /content/drive; to attempt to forcibly remount, call drive.mount(\"/content/drive\", force_remount=True).\n"
          ]
        }
      ]
    },
    {
      "cell_type": "code",
      "execution_count": 6,
      "metadata": {
        "id": "Oqsp1A5bkvd8",
        "colab": {
          "base_uri": "https://localhost:8080/",
          "height": 206
        },
        "outputId": "c7205ba6-ad99-4742-c4d7-717f4e76ad0c"
      },
      "outputs": [
        {
          "output_type": "execute_result",
          "data": {
            "text/plain": [
              "         Date     FIPS  Completeness_pct SVI_CTGY  Census2019      tVaccMi\n",
              "0  2022-05-14  55089.0              96.8        A     89221.0   395.621321\n",
              "1  2022-05-14   1035.0              92.5        D     12067.0   491.592597\n",
              "2  2022-05-14   5097.0              90.5        C      8986.0   602.040641\n",
              "3  2022-05-14   5107.0              90.5        D     17782.0   468.753088\n",
              "4  2022-05-14   6001.0              97.6        B   1671329.0  1957.946030"
            ],
            "text/html": [
              "\n",
              "  <div id=\"df-47820742-fef4-4413-9244-b95395caf755\">\n",
              "    <div class=\"colab-df-container\">\n",
              "      <div>\n",
              "<style scoped>\n",
              "    .dataframe tbody tr th:only-of-type {\n",
              "        vertical-align: middle;\n",
              "    }\n",
              "\n",
              "    .dataframe tbody tr th {\n",
              "        vertical-align: top;\n",
              "    }\n",
              "\n",
              "    .dataframe thead th {\n",
              "        text-align: right;\n",
              "    }\n",
              "</style>\n",
              "<table border=\"1\" class=\"dataframe\">\n",
              "  <thead>\n",
              "    <tr style=\"text-align: right;\">\n",
              "      <th></th>\n",
              "      <th>Date</th>\n",
              "      <th>FIPS</th>\n",
              "      <th>Completeness_pct</th>\n",
              "      <th>SVI_CTGY</th>\n",
              "      <th>Census2019</th>\n",
              "      <th>tVaccMi</th>\n",
              "    </tr>\n",
              "  </thead>\n",
              "  <tbody>\n",
              "    <tr>\n",
              "      <th>0</th>\n",
              "      <td>2022-05-14</td>\n",
              "      <td>55089.0</td>\n",
              "      <td>96.8</td>\n",
              "      <td>A</td>\n",
              "      <td>89221.0</td>\n",
              "      <td>395.621321</td>\n",
              "    </tr>\n",
              "    <tr>\n",
              "      <th>1</th>\n",
              "      <td>2022-05-14</td>\n",
              "      <td>1035.0</td>\n",
              "      <td>92.5</td>\n",
              "      <td>D</td>\n",
              "      <td>12067.0</td>\n",
              "      <td>491.592597</td>\n",
              "    </tr>\n",
              "    <tr>\n",
              "      <th>2</th>\n",
              "      <td>2022-05-14</td>\n",
              "      <td>5097.0</td>\n",
              "      <td>90.5</td>\n",
              "      <td>C</td>\n",
              "      <td>8986.0</td>\n",
              "      <td>602.040641</td>\n",
              "    </tr>\n",
              "    <tr>\n",
              "      <th>3</th>\n",
              "      <td>2022-05-14</td>\n",
              "      <td>5107.0</td>\n",
              "      <td>90.5</td>\n",
              "      <td>D</td>\n",
              "      <td>17782.0</td>\n",
              "      <td>468.753088</td>\n",
              "    </tr>\n",
              "    <tr>\n",
              "      <th>4</th>\n",
              "      <td>2022-05-14</td>\n",
              "      <td>6001.0</td>\n",
              "      <td>97.6</td>\n",
              "      <td>B</td>\n",
              "      <td>1671329.0</td>\n",
              "      <td>1957.946030</td>\n",
              "    </tr>\n",
              "  </tbody>\n",
              "</table>\n",
              "</div>\n",
              "      <button class=\"colab-df-convert\" onclick=\"convertToInteractive('df-47820742-fef4-4413-9244-b95395caf755')\"\n",
              "              title=\"Convert this dataframe to an interactive table.\"\n",
              "              style=\"display:none;\">\n",
              "        \n",
              "  <svg xmlns=\"http://www.w3.org/2000/svg\" height=\"24px\"viewBox=\"0 0 24 24\"\n",
              "       width=\"24px\">\n",
              "    <path d=\"M0 0h24v24H0V0z\" fill=\"none\"/>\n",
              "    <path d=\"M18.56 5.44l.94 2.06.94-2.06 2.06-.94-2.06-.94-.94-2.06-.94 2.06-2.06.94zm-11 1L8.5 8.5l.94-2.06 2.06-.94-2.06-.94L8.5 2.5l-.94 2.06-2.06.94zm10 10l.94 2.06.94-2.06 2.06-.94-2.06-.94-.94-2.06-.94 2.06-2.06.94z\"/><path d=\"M17.41 7.96l-1.37-1.37c-.4-.4-.92-.59-1.43-.59-.52 0-1.04.2-1.43.59L10.3 9.45l-7.72 7.72c-.78.78-.78 2.05 0 2.83L4 21.41c.39.39.9.59 1.41.59.51 0 1.02-.2 1.41-.59l7.78-7.78 2.81-2.81c.8-.78.8-2.07 0-2.86zM5.41 20L4 18.59l7.72-7.72 1.47 1.35L5.41 20z\"/>\n",
              "  </svg>\n",
              "      </button>\n",
              "      \n",
              "  <style>\n",
              "    .colab-df-container {\n",
              "      display:flex;\n",
              "      flex-wrap:wrap;\n",
              "      gap: 12px;\n",
              "    }\n",
              "\n",
              "    .colab-df-convert {\n",
              "      background-color: #E8F0FE;\n",
              "      border: none;\n",
              "      border-radius: 50%;\n",
              "      cursor: pointer;\n",
              "      display: none;\n",
              "      fill: #1967D2;\n",
              "      height: 32px;\n",
              "      padding: 0 0 0 0;\n",
              "      width: 32px;\n",
              "    }\n",
              "\n",
              "    .colab-df-convert:hover {\n",
              "      background-color: #E2EBFA;\n",
              "      box-shadow: 0px 1px 2px rgba(60, 64, 67, 0.3), 0px 1px 3px 1px rgba(60, 64, 67, 0.15);\n",
              "      fill: #174EA6;\n",
              "    }\n",
              "\n",
              "    [theme=dark] .colab-df-convert {\n",
              "      background-color: #3B4455;\n",
              "      fill: #D2E3FC;\n",
              "    }\n",
              "\n",
              "    [theme=dark] .colab-df-convert:hover {\n",
              "      background-color: #434B5C;\n",
              "      box-shadow: 0px 1px 3px 1px rgba(0, 0, 0, 0.15);\n",
              "      filter: drop-shadow(0px 1px 2px rgba(0, 0, 0, 0.3));\n",
              "      fill: #FFFFFF;\n",
              "    }\n",
              "  </style>\n",
              "\n",
              "      <script>\n",
              "        const buttonEl =\n",
              "          document.querySelector('#df-47820742-fef4-4413-9244-b95395caf755 button.colab-df-convert');\n",
              "        buttonEl.style.display =\n",
              "          google.colab.kernel.accessAllowed ? 'block' : 'none';\n",
              "\n",
              "        async function convertToInteractive(key) {\n",
              "          const element = document.querySelector('#df-47820742-fef4-4413-9244-b95395caf755');\n",
              "          const dataTable =\n",
              "            await google.colab.kernel.invokeFunction('convertToInteractive',\n",
              "                                                     [key], {});\n",
              "          if (!dataTable) return;\n",
              "\n",
              "          const docLinkHtml = 'Like what you see? Visit the ' +\n",
              "            '<a target=\"_blank\" href=https://colab.research.google.com/notebooks/data_table.ipynb>data table notebook</a>'\n",
              "            + ' to learn more about interactive tables.';\n",
              "          element.innerHTML = '';\n",
              "          dataTable['output_type'] = 'display_data';\n",
              "          await google.colab.output.renderOutput(dataTable, element);\n",
              "          const docLink = document.createElement('div');\n",
              "          docLink.innerHTML = docLinkHtml;\n",
              "          element.appendChild(docLink);\n",
              "        }\n",
              "      </script>\n",
              "    </div>\n",
              "  </div>\n",
              "  "
            ]
          },
          "metadata": {},
          "execution_count": 6
        }
      ],
      "source": [
        "df.head()"
      ]
    },
    {
      "cell_type": "code",
      "execution_count": 7,
      "metadata": {
        "id": "NfHbY432kw2u",
        "colab": {
          "base_uri": "https://localhost:8080/"
        },
        "outputId": "b863b495-959c-4bd4-d7e4-ce66cf31860e"
      },
      "outputs": [
        {
          "output_type": "execute_result",
          "data": {
            "text/plain": [
              "(3284, 6)"
            ]
          },
          "metadata": {},
          "execution_count": 7
        }
      ],
      "source": [
        "df.shape"
      ]
    },
    {
      "cell_type": "code",
      "execution_count": 8,
      "metadata": {
        "id": "T-Nr3B3zk46f",
        "colab": {
          "base_uri": "https://localhost:8080/",
          "height": 206
        },
        "outputId": "89c889de-3399-41fb-9ddb-44904adb86a4"
      },
      "outputs": [
        {
          "output_type": "execute_result",
          "data": {
            "text/plain": [
              "            Date     FIPS  Completeness_pct SVI_CTGY  Census2019     tVaccMi\n",
              "2098  2022-05-14  22043.0              96.9        C     22389.0  666.356429\n",
              "1852  2022-05-14  20103.0              93.6        A     81758.0  550.789632\n",
              "632   2022-05-14  39081.0              98.5        C     65325.0  385.899141\n",
              "3004  2022-05-14  39111.0              98.5        B     13654.0  366.412408\n",
              "1274  2022-05-14  27141.0              94.6        A     97238.0  660.765316"
            ],
            "text/html": [
              "\n",
              "  <div id=\"df-b09718fe-8d2f-4a46-87d4-6558d834962b\">\n",
              "    <div class=\"colab-df-container\">\n",
              "      <div>\n",
              "<style scoped>\n",
              "    .dataframe tbody tr th:only-of-type {\n",
              "        vertical-align: middle;\n",
              "    }\n",
              "\n",
              "    .dataframe tbody tr th {\n",
              "        vertical-align: top;\n",
              "    }\n",
              "\n",
              "    .dataframe thead th {\n",
              "        text-align: right;\n",
              "    }\n",
              "</style>\n",
              "<table border=\"1\" class=\"dataframe\">\n",
              "  <thead>\n",
              "    <tr style=\"text-align: right;\">\n",
              "      <th></th>\n",
              "      <th>Date</th>\n",
              "      <th>FIPS</th>\n",
              "      <th>Completeness_pct</th>\n",
              "      <th>SVI_CTGY</th>\n",
              "      <th>Census2019</th>\n",
              "      <th>tVaccMi</th>\n",
              "    </tr>\n",
              "  </thead>\n",
              "  <tbody>\n",
              "    <tr>\n",
              "      <th>2098</th>\n",
              "      <td>2022-05-14</td>\n",
              "      <td>22043.0</td>\n",
              "      <td>96.9</td>\n",
              "      <td>C</td>\n",
              "      <td>22389.0</td>\n",
              "      <td>666.356429</td>\n",
              "    </tr>\n",
              "    <tr>\n",
              "      <th>1852</th>\n",
              "      <td>2022-05-14</td>\n",
              "      <td>20103.0</td>\n",
              "      <td>93.6</td>\n",
              "      <td>A</td>\n",
              "      <td>81758.0</td>\n",
              "      <td>550.789632</td>\n",
              "    </tr>\n",
              "    <tr>\n",
              "      <th>632</th>\n",
              "      <td>2022-05-14</td>\n",
              "      <td>39081.0</td>\n",
              "      <td>98.5</td>\n",
              "      <td>C</td>\n",
              "      <td>65325.0</td>\n",
              "      <td>385.899141</td>\n",
              "    </tr>\n",
              "    <tr>\n",
              "      <th>3004</th>\n",
              "      <td>2022-05-14</td>\n",
              "      <td>39111.0</td>\n",
              "      <td>98.5</td>\n",
              "      <td>B</td>\n",
              "      <td>13654.0</td>\n",
              "      <td>366.412408</td>\n",
              "    </tr>\n",
              "    <tr>\n",
              "      <th>1274</th>\n",
              "      <td>2022-05-14</td>\n",
              "      <td>27141.0</td>\n",
              "      <td>94.6</td>\n",
              "      <td>A</td>\n",
              "      <td>97238.0</td>\n",
              "      <td>660.765316</td>\n",
              "    </tr>\n",
              "  </tbody>\n",
              "</table>\n",
              "</div>\n",
              "      <button class=\"colab-df-convert\" onclick=\"convertToInteractive('df-b09718fe-8d2f-4a46-87d4-6558d834962b')\"\n",
              "              title=\"Convert this dataframe to an interactive table.\"\n",
              "              style=\"display:none;\">\n",
              "        \n",
              "  <svg xmlns=\"http://www.w3.org/2000/svg\" height=\"24px\"viewBox=\"0 0 24 24\"\n",
              "       width=\"24px\">\n",
              "    <path d=\"M0 0h24v24H0V0z\" fill=\"none\"/>\n",
              "    <path d=\"M18.56 5.44l.94 2.06.94-2.06 2.06-.94-2.06-.94-.94-2.06-.94 2.06-2.06.94zm-11 1L8.5 8.5l.94-2.06 2.06-.94-2.06-.94L8.5 2.5l-.94 2.06-2.06.94zm10 10l.94 2.06.94-2.06 2.06-.94-2.06-.94-.94-2.06-.94 2.06-2.06.94z\"/><path d=\"M17.41 7.96l-1.37-1.37c-.4-.4-.92-.59-1.43-.59-.52 0-1.04.2-1.43.59L10.3 9.45l-7.72 7.72c-.78.78-.78 2.05 0 2.83L4 21.41c.39.39.9.59 1.41.59.51 0 1.02-.2 1.41-.59l7.78-7.78 2.81-2.81c.8-.78.8-2.07 0-2.86zM5.41 20L4 18.59l7.72-7.72 1.47 1.35L5.41 20z\"/>\n",
              "  </svg>\n",
              "      </button>\n",
              "      \n",
              "  <style>\n",
              "    .colab-df-container {\n",
              "      display:flex;\n",
              "      flex-wrap:wrap;\n",
              "      gap: 12px;\n",
              "    }\n",
              "\n",
              "    .colab-df-convert {\n",
              "      background-color: #E8F0FE;\n",
              "      border: none;\n",
              "      border-radius: 50%;\n",
              "      cursor: pointer;\n",
              "      display: none;\n",
              "      fill: #1967D2;\n",
              "      height: 32px;\n",
              "      padding: 0 0 0 0;\n",
              "      width: 32px;\n",
              "    }\n",
              "\n",
              "    .colab-df-convert:hover {\n",
              "      background-color: #E2EBFA;\n",
              "      box-shadow: 0px 1px 2px rgba(60, 64, 67, 0.3), 0px 1px 3px 1px rgba(60, 64, 67, 0.15);\n",
              "      fill: #174EA6;\n",
              "    }\n",
              "\n",
              "    [theme=dark] .colab-df-convert {\n",
              "      background-color: #3B4455;\n",
              "      fill: #D2E3FC;\n",
              "    }\n",
              "\n",
              "    [theme=dark] .colab-df-convert:hover {\n",
              "      background-color: #434B5C;\n",
              "      box-shadow: 0px 1px 3px 1px rgba(0, 0, 0, 0.15);\n",
              "      filter: drop-shadow(0px 1px 2px rgba(0, 0, 0, 0.3));\n",
              "      fill: #FFFFFF;\n",
              "    }\n",
              "  </style>\n",
              "\n",
              "      <script>\n",
              "        const buttonEl =\n",
              "          document.querySelector('#df-b09718fe-8d2f-4a46-87d4-6558d834962b button.colab-df-convert');\n",
              "        buttonEl.style.display =\n",
              "          google.colab.kernel.accessAllowed ? 'block' : 'none';\n",
              "\n",
              "        async function convertToInteractive(key) {\n",
              "          const element = document.querySelector('#df-b09718fe-8d2f-4a46-87d4-6558d834962b');\n",
              "          const dataTable =\n",
              "            await google.colab.kernel.invokeFunction('convertToInteractive',\n",
              "                                                     [key], {});\n",
              "          if (!dataTable) return;\n",
              "\n",
              "          const docLinkHtml = 'Like what you see? Visit the ' +\n",
              "            '<a target=\"_blank\" href=https://colab.research.google.com/notebooks/data_table.ipynb>data table notebook</a>'\n",
              "            + ' to learn more about interactive tables.';\n",
              "          element.innerHTML = '';\n",
              "          dataTable['output_type'] = 'display_data';\n",
              "          await google.colab.output.renderOutput(dataTable, element);\n",
              "          const docLink = document.createElement('div');\n",
              "          docLink.innerHTML = docLinkHtml;\n",
              "          element.appendChild(docLink);\n",
              "        }\n",
              "      </script>\n",
              "    </div>\n",
              "  </div>\n",
              "  "
            ]
          },
          "metadata": {},
          "execution_count": 8
        }
      ],
      "source": [
        "df.sample(5)"
      ]
    },
    {
      "cell_type": "code",
      "execution_count": 9,
      "metadata": {
        "id": "PoEZskHvk9M7",
        "colab": {
          "base_uri": "https://localhost:8080/"
        },
        "outputId": "ac92fff3-5cf0-4825-c2cb-2efe5d60b13e"
      },
      "outputs": [
        {
          "output_type": "stream",
          "name": "stdout",
          "text": [
            "<class 'pandas.core.frame.DataFrame'>\n",
            "RangeIndex: 3284 entries, 0 to 3283\n",
            "Data columns (total 6 columns):\n",
            " #   Column            Non-Null Count  Dtype  \n",
            "---  ------            --------------  -----  \n",
            " 0   Date              3284 non-null   object \n",
            " 1   FIPS              3213 non-null   float64\n",
            " 2   Completeness_pct  3261 non-null   float64\n",
            " 3   SVI_CTGY          3219 non-null   object \n",
            " 4   Census2019        3221 non-null   float64\n",
            " 5   tVaccMi           3209 non-null   float64\n",
            "dtypes: float64(4), object(2)\n",
            "memory usage: 154.1+ KB\n"
          ]
        }
      ],
      "source": [
        "df.info()"
      ]
    },
    {
      "cell_type": "code",
      "source": [
        "df.describe()"
      ],
      "metadata": {
        "colab": {
          "base_uri": "https://localhost:8080/",
          "height": 300
        },
        "id": "3gyEoK8O4Dz7",
        "outputId": "f723d668-62c5-4de5-a511-ace6ee6a44ed"
      },
      "execution_count": 10,
      "outputs": [
        {
          "output_type": "execute_result",
          "data": {
            "text/plain": [
              "               FIPS  Completeness_pct    Census2019      tVaccMi\n",
              "count   3213.000000       3261.000000  3.221000e+03  3209.000000\n",
              "mean   31484.932773         94.858356  1.029499e+05   729.484780\n",
              "std    16293.011680          4.600959  3.295575e+05   494.429960\n",
              "min     1001.000000         73.500000  8.600000e+01   172.556602\n",
              "25%    19045.000000         93.600000  1.113100e+04   403.148128\n",
              "50%    30033.000000         96.800000  2.610800e+04   580.858183\n",
              "75%    46115.000000         97.800000  6.721500e+04   877.705442\n",
              "max    78030.000000         98.900000  1.003911e+07  4433.418574"
            ],
            "text/html": [
              "\n",
              "  <div id=\"df-182cc86f-a1fa-4ddb-8f4d-e516a6eff324\">\n",
              "    <div class=\"colab-df-container\">\n",
              "      <div>\n",
              "<style scoped>\n",
              "    .dataframe tbody tr th:only-of-type {\n",
              "        vertical-align: middle;\n",
              "    }\n",
              "\n",
              "    .dataframe tbody tr th {\n",
              "        vertical-align: top;\n",
              "    }\n",
              "\n",
              "    .dataframe thead th {\n",
              "        text-align: right;\n",
              "    }\n",
              "</style>\n",
              "<table border=\"1\" class=\"dataframe\">\n",
              "  <thead>\n",
              "    <tr style=\"text-align: right;\">\n",
              "      <th></th>\n",
              "      <th>FIPS</th>\n",
              "      <th>Completeness_pct</th>\n",
              "      <th>Census2019</th>\n",
              "      <th>tVaccMi</th>\n",
              "    </tr>\n",
              "  </thead>\n",
              "  <tbody>\n",
              "    <tr>\n",
              "      <th>count</th>\n",
              "      <td>3213.000000</td>\n",
              "      <td>3261.000000</td>\n",
              "      <td>3.221000e+03</td>\n",
              "      <td>3209.000000</td>\n",
              "    </tr>\n",
              "    <tr>\n",
              "      <th>mean</th>\n",
              "      <td>31484.932773</td>\n",
              "      <td>94.858356</td>\n",
              "      <td>1.029499e+05</td>\n",
              "      <td>729.484780</td>\n",
              "    </tr>\n",
              "    <tr>\n",
              "      <th>std</th>\n",
              "      <td>16293.011680</td>\n",
              "      <td>4.600959</td>\n",
              "      <td>3.295575e+05</td>\n",
              "      <td>494.429960</td>\n",
              "    </tr>\n",
              "    <tr>\n",
              "      <th>min</th>\n",
              "      <td>1001.000000</td>\n",
              "      <td>73.500000</td>\n",
              "      <td>8.600000e+01</td>\n",
              "      <td>172.556602</td>\n",
              "    </tr>\n",
              "    <tr>\n",
              "      <th>25%</th>\n",
              "      <td>19045.000000</td>\n",
              "      <td>93.600000</td>\n",
              "      <td>1.113100e+04</td>\n",
              "      <td>403.148128</td>\n",
              "    </tr>\n",
              "    <tr>\n",
              "      <th>50%</th>\n",
              "      <td>30033.000000</td>\n",
              "      <td>96.800000</td>\n",
              "      <td>2.610800e+04</td>\n",
              "      <td>580.858183</td>\n",
              "    </tr>\n",
              "    <tr>\n",
              "      <th>75%</th>\n",
              "      <td>46115.000000</td>\n",
              "      <td>97.800000</td>\n",
              "      <td>6.721500e+04</td>\n",
              "      <td>877.705442</td>\n",
              "    </tr>\n",
              "    <tr>\n",
              "      <th>max</th>\n",
              "      <td>78030.000000</td>\n",
              "      <td>98.900000</td>\n",
              "      <td>1.003911e+07</td>\n",
              "      <td>4433.418574</td>\n",
              "    </tr>\n",
              "  </tbody>\n",
              "</table>\n",
              "</div>\n",
              "      <button class=\"colab-df-convert\" onclick=\"convertToInteractive('df-182cc86f-a1fa-4ddb-8f4d-e516a6eff324')\"\n",
              "              title=\"Convert this dataframe to an interactive table.\"\n",
              "              style=\"display:none;\">\n",
              "        \n",
              "  <svg xmlns=\"http://www.w3.org/2000/svg\" height=\"24px\"viewBox=\"0 0 24 24\"\n",
              "       width=\"24px\">\n",
              "    <path d=\"M0 0h24v24H0V0z\" fill=\"none\"/>\n",
              "    <path d=\"M18.56 5.44l.94 2.06.94-2.06 2.06-.94-2.06-.94-.94-2.06-.94 2.06-2.06.94zm-11 1L8.5 8.5l.94-2.06 2.06-.94-2.06-.94L8.5 2.5l-.94 2.06-2.06.94zm10 10l.94 2.06.94-2.06 2.06-.94-2.06-.94-.94-2.06-.94 2.06-2.06.94z\"/><path d=\"M17.41 7.96l-1.37-1.37c-.4-.4-.92-.59-1.43-.59-.52 0-1.04.2-1.43.59L10.3 9.45l-7.72 7.72c-.78.78-.78 2.05 0 2.83L4 21.41c.39.39.9.59 1.41.59.51 0 1.02-.2 1.41-.59l7.78-7.78 2.81-2.81c.8-.78.8-2.07 0-2.86zM5.41 20L4 18.59l7.72-7.72 1.47 1.35L5.41 20z\"/>\n",
              "  </svg>\n",
              "      </button>\n",
              "      \n",
              "  <style>\n",
              "    .colab-df-container {\n",
              "      display:flex;\n",
              "      flex-wrap:wrap;\n",
              "      gap: 12px;\n",
              "    }\n",
              "\n",
              "    .colab-df-convert {\n",
              "      background-color: #E8F0FE;\n",
              "      border: none;\n",
              "      border-radius: 50%;\n",
              "      cursor: pointer;\n",
              "      display: none;\n",
              "      fill: #1967D2;\n",
              "      height: 32px;\n",
              "      padding: 0 0 0 0;\n",
              "      width: 32px;\n",
              "    }\n",
              "\n",
              "    .colab-df-convert:hover {\n",
              "      background-color: #E2EBFA;\n",
              "      box-shadow: 0px 1px 2px rgba(60, 64, 67, 0.3), 0px 1px 3px 1px rgba(60, 64, 67, 0.15);\n",
              "      fill: #174EA6;\n",
              "    }\n",
              "\n",
              "    [theme=dark] .colab-df-convert {\n",
              "      background-color: #3B4455;\n",
              "      fill: #D2E3FC;\n",
              "    }\n",
              "\n",
              "    [theme=dark] .colab-df-convert:hover {\n",
              "      background-color: #434B5C;\n",
              "      box-shadow: 0px 1px 3px 1px rgba(0, 0, 0, 0.15);\n",
              "      filter: drop-shadow(0px 1px 2px rgba(0, 0, 0, 0.3));\n",
              "      fill: #FFFFFF;\n",
              "    }\n",
              "  </style>\n",
              "\n",
              "      <script>\n",
              "        const buttonEl =\n",
              "          document.querySelector('#df-182cc86f-a1fa-4ddb-8f4d-e516a6eff324 button.colab-df-convert');\n",
              "        buttonEl.style.display =\n",
              "          google.colab.kernel.accessAllowed ? 'block' : 'none';\n",
              "\n",
              "        async function convertToInteractive(key) {\n",
              "          const element = document.querySelector('#df-182cc86f-a1fa-4ddb-8f4d-e516a6eff324');\n",
              "          const dataTable =\n",
              "            await google.colab.kernel.invokeFunction('convertToInteractive',\n",
              "                                                     [key], {});\n",
              "          if (!dataTable) return;\n",
              "\n",
              "          const docLinkHtml = 'Like what you see? Visit the ' +\n",
              "            '<a target=\"_blank\" href=https://colab.research.google.com/notebooks/data_table.ipynb>data table notebook</a>'\n",
              "            + ' to learn more about interactive tables.';\n",
              "          element.innerHTML = '';\n",
              "          dataTable['output_type'] = 'display_data';\n",
              "          await google.colab.output.renderOutput(dataTable, element);\n",
              "          const docLink = document.createElement('div');\n",
              "          docLink.innerHTML = docLinkHtml;\n",
              "          element.appendChild(docLink);\n",
              "        }\n",
              "      </script>\n",
              "    </div>\n",
              "  </div>\n",
              "  "
            ]
          },
          "metadata": {},
          "execution_count": 10
        }
      ]
    },
    {
      "cell_type": "code",
      "execution_count": 11,
      "metadata": {
        "id": "gwTpOGJylEOk",
        "colab": {
          "base_uri": "https://localhost:8080/"
        },
        "outputId": "74f210a1-2d0a-476e-bcbe-12a504d26316"
      },
      "outputs": [
        {
          "output_type": "execute_result",
          "data": {
            "text/plain": [
              "Date                 0\n",
              "FIPS                71\n",
              "Completeness_pct    23\n",
              "SVI_CTGY            65\n",
              "Census2019          63\n",
              "tVaccMi             75\n",
              "dtype: int64"
            ]
          },
          "metadata": {},
          "execution_count": 11
        }
      ],
      "source": [
        "df.isnull().sum()"
      ]
    },
    {
      "cell_type": "code",
      "execution_count": 12,
      "metadata": {
        "id": "2z9c_6cklWsj"
      },
      "outputs": [],
      "source": [
        "df.dropna(inplace=True) # remove the null values"
      ]
    },
    {
      "cell_type": "code",
      "execution_count": 13,
      "metadata": {
        "id": "QRQbtyyAnCk_",
        "colab": {
          "base_uri": "https://localhost:8080/"
        },
        "outputId": "ee13d8da-9066-43d5-cfa5-729277dca2a1"
      },
      "outputs": [
        {
          "output_type": "execute_result",
          "data": {
            "text/plain": [
              "Date                0\n",
              "FIPS                0\n",
              "Completeness_pct    0\n",
              "SVI_CTGY            0\n",
              "Census2019          0\n",
              "tVaccMi             0\n",
              "dtype: int64"
            ]
          },
          "metadata": {},
          "execution_count": 13
        }
      ],
      "source": [
        "df.isnull().sum()"
      ]
    },
    {
      "cell_type": "code",
      "source": [
        "df.corr()"
      ],
      "metadata": {
        "colab": {
          "base_uri": "https://localhost:8080/",
          "height": 175
        },
        "id": "xxZzkt9T4YHP",
        "outputId": "f4508c43-4cb6-48d4-f9c5-028c3c82007f"
      },
      "execution_count": 14,
      "outputs": [
        {
          "output_type": "execute_result",
          "data": {
            "text/plain": [
              "                      FIPS  Completeness_pct  Census2019   tVaccMi\n",
              "FIPS              1.000000         -0.016414   -0.064242  0.142313\n",
              "Completeness_pct -0.016414          1.000000    0.071174  0.204122\n",
              "Census2019       -0.064242          0.071174    1.000000  0.086890\n",
              "tVaccMi           0.142313          0.204122    0.086890  1.000000"
            ],
            "text/html": [
              "\n",
              "  <div id=\"df-1020646d-740a-49a9-90f7-a4c962cae0b4\">\n",
              "    <div class=\"colab-df-container\">\n",
              "      <div>\n",
              "<style scoped>\n",
              "    .dataframe tbody tr th:only-of-type {\n",
              "        vertical-align: middle;\n",
              "    }\n",
              "\n",
              "    .dataframe tbody tr th {\n",
              "        vertical-align: top;\n",
              "    }\n",
              "\n",
              "    .dataframe thead th {\n",
              "        text-align: right;\n",
              "    }\n",
              "</style>\n",
              "<table border=\"1\" class=\"dataframe\">\n",
              "  <thead>\n",
              "    <tr style=\"text-align: right;\">\n",
              "      <th></th>\n",
              "      <th>FIPS</th>\n",
              "      <th>Completeness_pct</th>\n",
              "      <th>Census2019</th>\n",
              "      <th>tVaccMi</th>\n",
              "    </tr>\n",
              "  </thead>\n",
              "  <tbody>\n",
              "    <tr>\n",
              "      <th>FIPS</th>\n",
              "      <td>1.000000</td>\n",
              "      <td>-0.016414</td>\n",
              "      <td>-0.064242</td>\n",
              "      <td>0.142313</td>\n",
              "    </tr>\n",
              "    <tr>\n",
              "      <th>Completeness_pct</th>\n",
              "      <td>-0.016414</td>\n",
              "      <td>1.000000</td>\n",
              "      <td>0.071174</td>\n",
              "      <td>0.204122</td>\n",
              "    </tr>\n",
              "    <tr>\n",
              "      <th>Census2019</th>\n",
              "      <td>-0.064242</td>\n",
              "      <td>0.071174</td>\n",
              "      <td>1.000000</td>\n",
              "      <td>0.086890</td>\n",
              "    </tr>\n",
              "    <tr>\n",
              "      <th>tVaccMi</th>\n",
              "      <td>0.142313</td>\n",
              "      <td>0.204122</td>\n",
              "      <td>0.086890</td>\n",
              "      <td>1.000000</td>\n",
              "    </tr>\n",
              "  </tbody>\n",
              "</table>\n",
              "</div>\n",
              "      <button class=\"colab-df-convert\" onclick=\"convertToInteractive('df-1020646d-740a-49a9-90f7-a4c962cae0b4')\"\n",
              "              title=\"Convert this dataframe to an interactive table.\"\n",
              "              style=\"display:none;\">\n",
              "        \n",
              "  <svg xmlns=\"http://www.w3.org/2000/svg\" height=\"24px\"viewBox=\"0 0 24 24\"\n",
              "       width=\"24px\">\n",
              "    <path d=\"M0 0h24v24H0V0z\" fill=\"none\"/>\n",
              "    <path d=\"M18.56 5.44l.94 2.06.94-2.06 2.06-.94-2.06-.94-.94-2.06-.94 2.06-2.06.94zm-11 1L8.5 8.5l.94-2.06 2.06-.94-2.06-.94L8.5 2.5l-.94 2.06-2.06.94zm10 10l.94 2.06.94-2.06 2.06-.94-2.06-.94-.94-2.06-.94 2.06-2.06.94z\"/><path d=\"M17.41 7.96l-1.37-1.37c-.4-.4-.92-.59-1.43-.59-.52 0-1.04.2-1.43.59L10.3 9.45l-7.72 7.72c-.78.78-.78 2.05 0 2.83L4 21.41c.39.39.9.59 1.41.59.51 0 1.02-.2 1.41-.59l7.78-7.78 2.81-2.81c.8-.78.8-2.07 0-2.86zM5.41 20L4 18.59l7.72-7.72 1.47 1.35L5.41 20z\"/>\n",
              "  </svg>\n",
              "      </button>\n",
              "      \n",
              "  <style>\n",
              "    .colab-df-container {\n",
              "      display:flex;\n",
              "      flex-wrap:wrap;\n",
              "      gap: 12px;\n",
              "    }\n",
              "\n",
              "    .colab-df-convert {\n",
              "      background-color: #E8F0FE;\n",
              "      border: none;\n",
              "      border-radius: 50%;\n",
              "      cursor: pointer;\n",
              "      display: none;\n",
              "      fill: #1967D2;\n",
              "      height: 32px;\n",
              "      padding: 0 0 0 0;\n",
              "      width: 32px;\n",
              "    }\n",
              "\n",
              "    .colab-df-convert:hover {\n",
              "      background-color: #E2EBFA;\n",
              "      box-shadow: 0px 1px 2px rgba(60, 64, 67, 0.3), 0px 1px 3px 1px rgba(60, 64, 67, 0.15);\n",
              "      fill: #174EA6;\n",
              "    }\n",
              "\n",
              "    [theme=dark] .colab-df-convert {\n",
              "      background-color: #3B4455;\n",
              "      fill: #D2E3FC;\n",
              "    }\n",
              "\n",
              "    [theme=dark] .colab-df-convert:hover {\n",
              "      background-color: #434B5C;\n",
              "      box-shadow: 0px 1px 3px 1px rgba(0, 0, 0, 0.15);\n",
              "      filter: drop-shadow(0px 1px 2px rgba(0, 0, 0, 0.3));\n",
              "      fill: #FFFFFF;\n",
              "    }\n",
              "  </style>\n",
              "\n",
              "      <script>\n",
              "        const buttonEl =\n",
              "          document.querySelector('#df-1020646d-740a-49a9-90f7-a4c962cae0b4 button.colab-df-convert');\n",
              "        buttonEl.style.display =\n",
              "          google.colab.kernel.accessAllowed ? 'block' : 'none';\n",
              "\n",
              "        async function convertToInteractive(key) {\n",
              "          const element = document.querySelector('#df-1020646d-740a-49a9-90f7-a4c962cae0b4');\n",
              "          const dataTable =\n",
              "            await google.colab.kernel.invokeFunction('convertToInteractive',\n",
              "                                                     [key], {});\n",
              "          if (!dataTable) return;\n",
              "\n",
              "          const docLinkHtml = 'Like what you see? Visit the ' +\n",
              "            '<a target=\"_blank\" href=https://colab.research.google.com/notebooks/data_table.ipynb>data table notebook</a>'\n",
              "            + ' to learn more about interactive tables.';\n",
              "          element.innerHTML = '';\n",
              "          dataTable['output_type'] = 'display_data';\n",
              "          await google.colab.output.renderOutput(dataTable, element);\n",
              "          const docLink = document.createElement('div');\n",
              "          docLink.innerHTML = docLinkHtml;\n",
              "          element.appendChild(docLink);\n",
              "        }\n",
              "      </script>\n",
              "    </div>\n",
              "  </div>\n",
              "  "
            ]
          },
          "metadata": {},
          "execution_count": 14
        }
      ]
    },
    {
      "cell_type": "code",
      "execution_count": 15,
      "metadata": {
        "id": "2HwHckcCnz9i",
        "colab": {
          "base_uri": "https://localhost:8080/"
        },
        "outputId": "471c2a86-4a78-44b5-cc22-684c31df7259"
      },
      "outputs": [
        {
          "output_type": "execute_result",
          "data": {
            "text/plain": [
              "D    800\n",
              "A    798\n",
              "B    798\n",
              "C    797\n",
              "Name: SVI_CTGY, dtype: int64"
            ]
          },
          "metadata": {},
          "execution_count": 15
        }
      ],
      "source": [
        "df['SVI_CTGY'].value_counts()"
      ]
    },
    {
      "cell_type": "code",
      "execution_count": 16,
      "metadata": {
        "id": "HcdqnUiLnkfG",
        "colab": {
          "base_uri": "https://localhost:8080/",
          "height": 352
        },
        "outputId": "1603ba01-dc54-4e26-ff6e-eaacf16ad828"
      },
      "outputs": [
        {
          "output_type": "stream",
          "name": "stderr",
          "text": [
            "/usr/local/lib/python3.7/dist-packages/seaborn/_decorators.py:43: FutureWarning: Pass the following variable as a keyword arg: x. From version 0.12, the only valid positional argument will be `data`, and passing other arguments without an explicit keyword will result in an error or misinterpretation.\n",
            "  FutureWarning\n"
          ]
        },
        {
          "output_type": "execute_result",
          "data": {
            "text/plain": [
              "<matplotlib.axes._subplots.AxesSubplot at 0x7f5a076c42d0>"
            ]
          },
          "metadata": {},
          "execution_count": 16
        },
        {
          "output_type": "display_data",
          "data": {
            "text/plain": [
              "<Figure size 432x288 with 1 Axes>"
            ],
            "image/png": "[encoded data removed]"
          },
          "metadata": {
            "needs_background": "light"
          }
        }
      ],
      "source": [
        "sns.countplot(df['SVI_CTGY'])"
      ]
    },
    {
      "cell_type": "code",
      "execution_count": 17,
      "metadata": {
        "id": "LnKwWIYsnuxI",
        "colab": {
          "base_uri": "https://localhost:8080/"
        },
        "outputId": "59be4cc5-e1b0-45a6-b738-09b2d3b2adf2"
      },
      "outputs": [
        {
          "output_type": "execute_result",
          "data": {
            "text/plain": [
              "98.9    254\n",
              "97.8    175\n",
              "97.6    164\n",
              "96.9    164\n",
              "89.4    159\n",
              "94.0    141\n",
              "79.0    133\n",
              "91.3    115\n",
              "98.3    110\n",
              "93.6    105\n",
              "97.4     99\n",
              "90.7     93\n",
              "98.6     92\n",
              "98.5     88\n",
              "94.6     87\n",
              "97.1     86\n",
              "95.1     83\n",
              "98.1     82\n",
              "93.8     77\n",
              "97.3     76\n",
              "90.5     75\n",
              "96.8     72\n",
              "94.8     67\n",
              "92.5     67\n",
              "98.7     67\n",
              "96.7     65\n",
              "95.8     56\n",
              "97.2     55\n",
              "92.7     53\n",
              "93.1     46\n",
              "96.0     39\n",
              "97.0     32\n",
              "98.2     24\n",
              "96.2     19\n",
              "95.0     18\n",
              "97.7     15\n",
              "73.5     14\n",
              "89.9     11\n",
              "94.1     10\n",
              "89.0      5\n",
              "Name: Completeness_pct, dtype: int64"
            ]
          },
          "metadata": {},
          "execution_count": 17
        }
      ],
      "source": [
        "df['Completeness_pct'].value_counts()"
      ]
    },
    {
      "cell_type": "code",
      "execution_count": 18,
      "metadata": {
        "id": "C9_4cZprqs0T",
        "colab": {
          "base_uri": "https://localhost:8080/",
          "height": 300
        },
        "outputId": "24a885b4-a546-4290-e32d-8d0f13faef1e"
      },
      "outputs": [
        {
          "output_type": "execute_result",
          "data": {
            "text/plain": [
              "<matplotlib.axes._subplots.AxesSubplot at 0x7f5a07622190>"
            ]
          },
          "metadata": {},
          "execution_count": 18
        },
        {
          "output_type": "display_data",
          "data": {
            "text/plain": [
              "<Figure size 432x288 with 1 Axes>"
            ],
            "image/png": "[encoded data removed]"
          },
          "metadata": {
            "needs_background": "light"
          }
        }
      ],
      "source": [
        "sns.scatterplot(x='SVI_CTGY',y='Completeness_pct',data=df)"
      ]
    },
    {
      "cell_type": "code",
      "execution_count": 19,
      "metadata": {
        "id": "HE1ipbldrQv6",
        "colab": {
          "base_uri": "https://localhost:8080/"
        },
        "outputId": "6768b695-6a6b-42cf-f1cb-6ab2438f6065"
      },
      "outputs": [
        {
          "output_type": "execute_result",
          "data": {
            "text/plain": [
              "0       2022-05-14\n",
              "1       2022-05-14\n",
              "2       2022-05-14\n",
              "3       2022-05-14\n",
              "4       2022-05-14\n",
              "           ...    \n",
              "3278    2022-05-14\n",
              "3279    2022-05-14\n",
              "3280    2022-05-14\n",
              "3281    2022-05-14\n",
              "3282    2022-05-14\n",
              "Name: Date, Length: 3193, dtype: object"
            ]
          },
          "metadata": {},
          "execution_count": 19
        }
      ],
      "source": [
        "df.pop('Date')"
      ]
    },
    {
      "cell_type": "code",
      "execution_count": 20,
      "metadata": {
        "id": "XyoU8bT2tMzT"
      },
      "outputs": [],
      "source": [
        "df['Census2019']=df['Census2019'].astype('int64')"
      ]
    },
    {
      "cell_type": "code",
      "execution_count": 21,
      "metadata": {
        "id": "oKJTV2UvtPwp"
      },
      "outputs": [],
      "source": [
        "df['tVaccMi']=df['tVaccMi'].astype('int64')"
      ]
    },
    {
      "cell_type": "code",
      "execution_count": 22,
      "metadata": {
        "id": "6h8uxAlpu-cA"
      },
      "outputs": [],
      "source": [
        "df['FIPS']=df['FIPS'].astype('int64')"
      ]
    },
    {
      "cell_type": "code",
      "execution_count": 23,
      "metadata": {
        "id": "GBfSTm1BvFvl",
        "colab": {
          "base_uri": "https://localhost:8080/",
          "height": 300
        },
        "outputId": "2cac82df-b294-4df5-8a4f-89a3b4dcd801"
      },
      "outputs": [
        {
          "output_type": "execute_result",
          "data": {
            "text/plain": [
              "<matplotlib.axes._subplots.AxesSubplot at 0x7f5a0715b710>"
            ]
          },
          "metadata": {},
          "execution_count": 23
        },
        {
          "output_type": "display_data",
          "data": {
            "text/plain": [
              "<Figure size 432x288 with 1 Axes>"
            ],
            "image/png": "[encoded data removed]"
          },
          "metadata": {
            "needs_background": "light"
          }
        }
      ],
      "source": [
        "sns.boxplot(x='SVI_CTGY',y='Completeness_pct',data=df)"
      ]
    },
    {
      "cell_type": "code",
      "execution_count": 24,
      "metadata": {
        "id": "20VaREKZJTtf",
        "colab": {
          "base_uri": "https://localhost:8080/"
        },
        "outputId": "2dad8499-684f-4f72-abec-f523f5ef9c0d"
      },
      "outputs": [
        {
          "output_type": "execute_result",
          "data": {
            "text/plain": [
              "0        395\n",
              "1        491\n",
              "2        602\n",
              "3        468\n",
              "4       1957\n",
              "        ... \n",
              "3278     464\n",
              "3279     346\n",
              "3280     446\n",
              "3281     578\n",
              "3282     484\n",
              "Name: tVaccMi, Length: 3193, dtype: int64"
            ]
          },
          "metadata": {},
          "execution_count": 24
        }
      ],
      "source": [
        "df['tVaccMi']"
      ]
    },
    {
      "cell_type": "code",
      "execution_count": 63,
      "metadata": {
        "id": "3W3ocuJXvaXB",
        "colab": {
          "base_uri": "https://localhost:8080/",
          "height": 440
        },
        "outputId": "b46456d7-d10a-4fce-8211-5421038c2824"
      },
      "outputs": [
        {
          "output_type": "display_data",
          "data": {
            "text/plain": [
              "<Figure size 640x480 with 1 Axes>"
            ],
            "image/png": "[encoded data removed]"
          },
          "metadata": {}
        }
      ],
      "source": [
        "plt.hist(df['tVaccMi'])\n",
        "plt.style.use('classic')\n",
        "plt.grid(color='w', linestyle='solid')\n"
      ]
    },
    {
      "cell_type": "code",
      "execution_count": 26,
      "metadata": {
        "id": "bsWmj0s9wXcc",
        "colab": {
          "base_uri": "https://localhost:8080/"
        },
        "outputId": "cf50d3d2-a824-4b66-a086-f20ecae88422"
      },
      "outputs": [
        {
          "output_type": "execute_result",
          "data": {
            "text/plain": [
              "10039107"
            ]
          },
          "metadata": {},
          "execution_count": 26
        }
      ],
      "source": [
        "df['Census2019'].max()"
      ]
    },
    {
      "cell_type": "code",
      "execution_count": 27,
      "metadata": {
        "id": "cTNgxB8cXvUw",
        "colab": {
          "base_uri": "https://localhost:8080/"
        },
        "outputId": "d9ec6443-c7b8-4d98-e45c-0df5b8e84d8e"
      },
      "outputs": [
        {
          "output_type": "execute_result",
          "data": {
            "text/plain": [
              "169"
            ]
          },
          "metadata": {},
          "execution_count": 27
        }
      ],
      "source": [
        "df['Census2019'].min()"
      ]
    },
    {
      "cell_type": "code",
      "execution_count": 28,
      "metadata": {
        "id": "CWg6iSALXyGr",
        "colab": {
          "base_uri": "https://localhost:8080/",
          "height": 297
        },
        "outputId": "faacabef-fdf2-4d2a-b48e-c4c04d6af0c9"
      },
      "outputs": [
        {
          "output_type": "execute_result",
          "data": {
            "text/plain": [
              "<matplotlib.axes._subplots.AxesSubplot at 0x7f5a070285d0>"
            ]
          },
          "metadata": {},
          "execution_count": 28
        },
        {
          "output_type": "display_data",
          "data": {
            "text/plain": [
              "<Figure size 432x288 with 1 Axes>"
            ],
            "image/png": "[encoded data removed]"
          },
          "metadata": {
            "needs_background": "light"
          }
        }
      ],
      "source": [
        "sns.barplot(x='SVI_CTGY',y='Census2019',data=df)"
      ]
    },
    {
      "cell_type": "code",
      "execution_count": 29,
      "metadata": {
        "id": "_7-D-TP5X6fV"
      },
      "outputs": [],
      "source": [
        "# optimization"
      ]
    },
    {
      "cell_type": "code",
      "execution_count": 30,
      "metadata": {
        "id": "2-P177wyZX44",
        "colab": {
          "base_uri": "https://localhost:8080/"
        },
        "outputId": "e62fc18a-3296-403d-eee2-2dd0b77090c2"
      },
      "outputs": [
        {
          "output_type": "execute_result",
          "data": {
            "text/plain": [
              "Index(['FIPS', 'Completeness_pct', 'SVI_CTGY', 'Census2019', 'tVaccMi'], dtype='object')"
            ]
          },
          "metadata": {},
          "execution_count": 30
        }
      ],
      "source": [
        "df.columns"
      ]
    },
    {
      "cell_type": "code",
      "execution_count": 31,
      "metadata": {
        "id": "LSE4KI7rULbt"
      },
      "outputs": [],
      "source": [
        "# get the data of population which are not vaccinated\n",
        "df['Incomplete_pop'] = (100 - df['Completeness_pct'])*df['Census2019']//100"
      ]
    },
    {
      "cell_type": "code",
      "execution_count": 32,
      "metadata": {
        "id": "nvmm15QxUVga",
        "colab": {
          "base_uri": "https://localhost:8080/",
          "height": 206
        },
        "outputId": "484391e2-092c-4d03-add7-214f51f0d5d8"
      },
      "outputs": [
        {
          "output_type": "execute_result",
          "data": {
            "text/plain": [
              "    FIPS  Completeness_pct SVI_CTGY  Census2019  tVaccMi  Incomplete_pop\n",
              "0  55089              96.8        A       89221      395          2855.0\n",
              "1   1035              92.5        D       12067      491           905.0\n",
              "2   5097              90.5        C        8986      602           853.0\n",
              "3   5107              90.5        D       17782      468          1689.0\n",
              "4   6001              97.6        B     1671329     1957         40111.0"
            ],
            "text/html": [
              "\n",
              "  <div id=\"df-42b8b676-57ab-4db1-afd0-74f1581445eb\">\n",
              "    <div class=\"colab-df-container\">\n",
              "      <div>\n",
              "<style scoped>\n",
              "    .dataframe tbody tr th:only-of-type {\n",
              "        vertical-align: middle;\n",
              "    }\n",
              "\n",
              "    .dataframe tbody tr th {\n",
              "        vertical-align: top;\n",
              "    }\n",
              "\n",
              "    .dataframe thead th {\n",
              "        text-align: right;\n",
              "    }\n",
              "</style>\n",
              "<table border=\"1\" class=\"dataframe\">\n",
              "  <thead>\n",
              "    <tr style=\"text-align: right;\">\n",
              "      <th></th>\n",
              "      <th>FIPS</th>\n",
              "      <th>Completeness_pct</th>\n",
              "      <th>SVI_CTGY</th>\n",
              "      <th>Census2019</th>\n",
              "      <th>tVaccMi</th>\n",
              "      <th>Incomplete_pop</th>\n",
              "    </tr>\n",
              "  </thead>\n",
              "  <tbody>\n",
              "    <tr>\n",
              "      <th>0</th>\n",
              "      <td>55089</td>\n",
              "      <td>96.8</td>\n",
              "      <td>A</td>\n",
              "      <td>89221</td>\n",
              "      <td>395</td>\n",
              "      <td>2855.0</td>\n",
              "    </tr>\n",
              "    <tr>\n",
              "      <th>1</th>\n",
              "      <td>1035</td>\n",
              "      <td>92.5</td>\n",
              "      <td>D</td>\n",
              "      <td>12067</td>\n",
              "      <td>491</td>\n",
              "      <td>905.0</td>\n",
              "    </tr>\n",
              "    <tr>\n",
              "      <th>2</th>\n",
              "      <td>5097</td>\n",
              "      <td>90.5</td>\n",
              "      <td>C</td>\n",
              "      <td>8986</td>\n",
              "      <td>602</td>\n",
              "      <td>853.0</td>\n",
              "    </tr>\n",
              "    <tr>\n",
              "      <th>3</th>\n",
              "      <td>5107</td>\n",
              "      <td>90.5</td>\n",
              "      <td>D</td>\n",
              "      <td>17782</td>\n",
              "      <td>468</td>\n",
              "      <td>1689.0</td>\n",
              "    </tr>\n",
              "    <tr>\n",
              "      <th>4</th>\n",
              "      <td>6001</td>\n",
              "      <td>97.6</td>\n",
              "      <td>B</td>\n",
              "      <td>1671329</td>\n",
              "      <td>1957</td>\n",
              "      <td>40111.0</td>\n",
              "    </tr>\n",
              "  </tbody>\n",
              "</table>\n",
              "</div>\n",
              "      <button class=\"colab-df-convert\" onclick=\"convertToInteractive('df-42b8b676-57ab-4db1-afd0-74f1581445eb')\"\n",
              "              title=\"Convert this dataframe to an interactive table.\"\n",
              "              style=\"display:none;\">\n",
              "        \n",
              "  <svg xmlns=\"http://www.w3.org/2000/svg\" height=\"24px\"viewBox=\"0 0 24 24\"\n",
              "       width=\"24px\">\n",
              "    <path d=\"M0 0h24v24H0V0z\" fill=\"none\"/>\n",
              "    <path d=\"M18.56 5.44l.94 2.06.94-2.06 2.06-.94-2.06-.94-.94-2.06-.94 2.06-2.06.94zm-11 1L8.5 8.5l.94-2.06 2.06-.94-2.06-.94L8.5 2.5l-.94 2.06-2.06.94zm10 10l.94 2.06.94-2.06 2.06-.94-2.06-.94-.94-2.06-.94 2.06-2.06.94z\"/><path d=\"M17.41 7.96l-1.37-1.37c-.4-.4-.92-.59-1.43-.59-.52 0-1.04.2-1.43.59L10.3 9.45l-7.72 7.72c-.78.78-.78 2.05 0 2.83L4 21.41c.39.39.9.59 1.41.59.51 0 1.02-.2 1.41-.59l7.78-7.78 2.81-2.81c.8-.78.8-2.07 0-2.86zM5.41 20L4 18.59l7.72-7.72 1.47 1.35L5.41 20z\"/>\n",
              "  </svg>\n",
              "      </button>\n",
              "      \n",
              "  <style>\n",
              "    .colab-df-container {\n",
              "      display:flex;\n",
              "      flex-wrap:wrap;\n",
              "      gap: 12px;\n",
              "    }\n",
              "\n",
              "    .colab-df-convert {\n",
              "      background-color: #E8F0FE;\n",
              "      border: none;\n",
              "      border-radius: 50%;\n",
              "      cursor: pointer;\n",
              "      display: none;\n",
              "      fill: #1967D2;\n",
              "      height: 32px;\n",
              "      padding: 0 0 0 0;\n",
              "      width: 32px;\n",
              "    }\n",
              "\n",
              "    .colab-df-convert:hover {\n",
              "      background-color: #E2EBFA;\n",
              "      box-shadow: 0px 1px 2px rgba(60, 64, 67, 0.3), 0px 1px 3px 1px rgba(60, 64, 67, 0.15);\n",
              "      fill: #174EA6;\n",
              "    }\n",
              "\n",
              "    [theme=dark] .colab-df-convert {\n",
              "      background-color: #3B4455;\n",
              "      fill: #D2E3FC;\n",
              "    }\n",
              "\n",
              "    [theme=dark] .colab-df-convert:hover {\n",
              "      background-color: #434B5C;\n",
              "      box-shadow: 0px 1px 3px 1px rgba(0, 0, 0, 0.15);\n",
              "      filter: drop-shadow(0px 1px 2px rgba(0, 0, 0, 0.3));\n",
              "      fill: #FFFFFF;\n",
              "    }\n",
              "  </style>\n",
              "\n",
              "      <script>\n",
              "        const buttonEl =\n",
              "          document.querySelector('#df-42b8b676-57ab-4db1-afd0-74f1581445eb button.colab-df-convert');\n",
              "        buttonEl.style.display =\n",
              "          google.colab.kernel.accessAllowed ? 'block' : 'none';\n",
              "\n",
              "        async function convertToInteractive(key) {\n",
              "          const element = document.querySelector('#df-42b8b676-57ab-4db1-afd0-74f1581445eb');\n",
              "          const dataTable =\n",
              "            await google.colab.kernel.invokeFunction('convertToInteractive',\n",
              "                                                     [key], {});\n",
              "          if (!dataTable) return;\n",
              "\n",
              "          const docLinkHtml = 'Like what you see? Visit the ' +\n",
              "            '<a target=\"_blank\" href=https://colab.research.google.com/notebooks/data_table.ipynb>data table notebook</a>'\n",
              "            + ' to learn more about interactive tables.';\n",
              "          element.innerHTML = '';\n",
              "          dataTable['output_type'] = 'display_data';\n",
              "          await google.colab.output.renderOutput(dataTable, element);\n",
              "          const docLink = document.createElement('div');\n",
              "          docLink.innerHTML = docLinkHtml;\n",
              "          element.appendChild(docLink);\n",
              "        }\n",
              "      </script>\n",
              "    </div>\n",
              "  </div>\n",
              "  "
            ]
          },
          "metadata": {},
          "execution_count": 32
        }
      ],
      "source": [
        "df.head()"
      ]
    },
    {
      "cell_type": "code",
      "execution_count": 33,
      "metadata": {
        "id": "VcAo9XvF41aZ",
        "colab": {
          "base_uri": "https://localhost:8080/",
          "height": 298
        },
        "outputId": "ce02d4dc-ac8b-4f16-efee-8d907205f26b"
      },
      "outputs": [
        {
          "output_type": "execute_result",
          "data": {
            "text/plain": [
              "<matplotlib.axes._subplots.AxesSubplot at 0x7f5a06f2f8d0>"
            ]
          },
          "metadata": {},
          "execution_count": 33
        },
        {
          "output_type": "display_data",
          "data": {
            "text/plain": [
              "<Figure size 432x288 with 1 Axes>"
            ],
            "image/png": "[encoded data removed]"
          },
          "metadata": {
            "needs_background": "light"
          }
        }
      ],
      "source": [
        "sns.scatterplot(x='tVaccMi',y='Incomplete_pop',data=df)"
      ]
    },
    {
      "cell_type": "code",
      "execution_count": 34,
      "metadata": {
        "id": "1Gs_Sb326fg4",
        "colab": {
          "base_uri": "https://localhost:8080/",
          "height": 310
        },
        "outputId": "08d10b84-a801-48de-d494-fb7de41b91f9"
      },
      "outputs": [
        {
          "output_type": "stream",
          "name": "stderr",
          "text": [
            "/usr/local/lib/python3.7/dist-packages/ipykernel_launcher.py:4: SettingWithCopyWarning: \n",
            "A value is trying to be set on a copy of a slice from a DataFrame.\n",
            "Try using .loc[row_indexer,col_indexer] = value instead\n",
            "\n",
            "See the caveats in the documentation: https://pandas.pydata.org/pandas-docs/stable/user_guide/indexing.html#returning-a-view-versus-a-copy\n",
            "  after removing the cwd from sys.path.\n"
          ]
        },
        {
          "output_type": "execute_result",
          "data": {
            "text/plain": [
              "    FIPS  Completeness_pct SVI_CTGY  Census2019  tVaccMi  Incomplete_pop  \\\n",
              "0  55089              96.8        A       89221      395          2855.0   \n",
              "1   1035              92.5        D       12067      491           905.0   \n",
              "2   5097              90.5        C        8986      602           853.0   \n",
              "3   5107              90.5        D       17782      468          1689.0   \n",
              "4   6001              97.6        B     1671329     1957         40111.0   \n",
              "\n",
              "   SVI_new  \n",
              "0        4  \n",
              "1        1  \n",
              "2        2  \n",
              "3        1  \n",
              "4        3  "
            ],
            "text/html": [
              "\n",
              "  <div id=\"df-c4cf4ab0-1bb3-4a4c-ae17-40b0d039c343\">\n",
              "    <div class=\"colab-df-container\">\n",
              "      <div>\n",
              "<style scoped>\n",
              "    .dataframe tbody tr th:only-of-type {\n",
              "        vertical-align: middle;\n",
              "    }\n",
              "\n",
              "    .dataframe tbody tr th {\n",
              "        vertical-align: top;\n",
              "    }\n",
              "\n",
              "    .dataframe thead th {\n",
              "        text-align: right;\n",
              "    }\n",
              "</style>\n",
              "<table border=\"1\" class=\"dataframe\">\n",
              "  <thead>\n",
              "    <tr style=\"text-align: right;\">\n",
              "      <th></th>\n",
              "      <th>FIPS</th>\n",
              "      <th>Completeness_pct</th>\n",
              "      <th>SVI_CTGY</th>\n",
              "      <th>Census2019</th>\n",
              "      <th>tVaccMi</th>\n",
              "      <th>Incomplete_pop</th>\n",
              "      <th>SVI_new</th>\n",
              "    </tr>\n",
              "  </thead>\n",
              "  <tbody>\n",
              "    <tr>\n",
              "      <th>0</th>\n",
              "      <td>55089</td>\n",
              "      <td>96.8</td>\n",
              "      <td>A</td>\n",
              "      <td>89221</td>\n",
              "      <td>395</td>\n",
              "      <td>2855.0</td>\n",
              "      <td>4</td>\n",
              "    </tr>\n",
              "    <tr>\n",
              "      <th>1</th>\n",
              "      <td>1035</td>\n",
              "      <td>92.5</td>\n",
              "      <td>D</td>\n",
              "      <td>12067</td>\n",
              "      <td>491</td>\n",
              "      <td>905.0</td>\n",
              "      <td>1</td>\n",
              "    </tr>\n",
              "    <tr>\n",
              "      <th>2</th>\n",
              "      <td>5097</td>\n",
              "      <td>90.5</td>\n",
              "      <td>C</td>\n",
              "      <td>8986</td>\n",
              "      <td>602</td>\n",
              "      <td>853.0</td>\n",
              "      <td>2</td>\n",
              "    </tr>\n",
              "    <tr>\n",
              "      <th>3</th>\n",
              "      <td>5107</td>\n",
              "      <td>90.5</td>\n",
              "      <td>D</td>\n",
              "      <td>17782</td>\n",
              "      <td>468</td>\n",
              "      <td>1689.0</td>\n",
              "      <td>1</td>\n",
              "    </tr>\n",
              "    <tr>\n",
              "      <th>4</th>\n",
              "      <td>6001</td>\n",
              "      <td>97.6</td>\n",
              "      <td>B</td>\n",
              "      <td>1671329</td>\n",
              "      <td>1957</td>\n",
              "      <td>40111.0</td>\n",
              "      <td>3</td>\n",
              "    </tr>\n",
              "  </tbody>\n",
              "</table>\n",
              "</div>\n",
              "      <button class=\"colab-df-convert\" onclick=\"convertToInteractive('df-c4cf4ab0-1bb3-4a4c-ae17-40b0d039c343')\"\n",
              "              title=\"Convert this dataframe to an interactive table.\"\n",
              "              style=\"display:none;\">\n",
              "        \n",
              "  <svg xmlns=\"http://www.w3.org/2000/svg\" height=\"24px\"viewBox=\"0 0 24 24\"\n",
              "       width=\"24px\">\n",
              "    <path d=\"M0 0h24v24H0V0z\" fill=\"none\"/>\n",
              "    <path d=\"M18.56 5.44l.94 2.06.94-2.06 2.06-.94-2.06-.94-.94-2.06-.94 2.06-2.06.94zm-11 1L8.5 8.5l.94-2.06 2.06-.94-2.06-.94L8.5 2.5l-.94 2.06-2.06.94zm10 10l.94 2.06.94-2.06 2.06-.94-2.06-.94-.94-2.06-.94 2.06-2.06.94z\"/><path d=\"M17.41 7.96l-1.37-1.37c-.4-.4-.92-.59-1.43-.59-.52 0-1.04.2-1.43.59L10.3 9.45l-7.72 7.72c-.78.78-.78 2.05 0 2.83L4 21.41c.39.39.9.59 1.41.59.51 0 1.02-.2 1.41-.59l7.78-7.78 2.81-2.81c.8-.78.8-2.07 0-2.86zM5.41 20L4 18.59l7.72-7.72 1.47 1.35L5.41 20z\"/>\n",
              "  </svg>\n",
              "      </button>\n",
              "      \n",
              "  <style>\n",
              "    .colab-df-container {\n",
              "      display:flex;\n",
              "      flex-wrap:wrap;\n",
              "      gap: 12px;\n",
              "    }\n",
              "\n",
              "    .colab-df-convert {\n",
              "      background-color: #E8F0FE;\n",
              "      border: none;\n",
              "      border-radius: 50%;\n",
              "      cursor: pointer;\n",
              "      display: none;\n",
              "      fill: #1967D2;\n",
              "      height: 32px;\n",
              "      padding: 0 0 0 0;\n",
              "      width: 32px;\n",
              "    }\n",
              "\n",
              "    .colab-df-convert:hover {\n",
              "      background-color: #E2EBFA;\n",
              "      box-shadow: 0px 1px 2px rgba(60, 64, 67, 0.3), 0px 1px 3px 1px rgba(60, 64, 67, 0.15);\n",
              "      fill: #174EA6;\n",
              "    }\n",
              "\n",
              "    [theme=dark] .colab-df-convert {\n",
              "      background-color: #3B4455;\n",
              "      fill: #D2E3FC;\n",
              "    }\n",
              "\n",
              "    [theme=dark] .colab-df-convert:hover {\n",
              "      background-color: #434B5C;\n",
              "      box-shadow: 0px 1px 3px 1px rgba(0, 0, 0, 0.15);\n",
              "      filter: drop-shadow(0px 1px 2px rgba(0, 0, 0, 0.3));\n",
              "      fill: #FFFFFF;\n",
              "    }\n",
              "  </style>\n",
              "\n",
              "      <script>\n",
              "        const buttonEl =\n",
              "          document.querySelector('#df-c4cf4ab0-1bb3-4a4c-ae17-40b0d039c343 button.colab-df-convert');\n",
              "        buttonEl.style.display =\n",
              "          google.colab.kernel.accessAllowed ? 'block' : 'none';\n",
              "\n",
              "        async function convertToInteractive(key) {\n",
              "          const element = document.querySelector('#df-c4cf4ab0-1bb3-4a4c-ae17-40b0d039c343');\n",
              "          const dataTable =\n",
              "            await google.colab.kernel.invokeFunction('convertToInteractive',\n",
              "                                                     [key], {});\n",
              "          if (!dataTable) return;\n",
              "\n",
              "          const docLinkHtml = 'Like what you see? Visit the ' +\n",
              "            '<a target=\"_blank\" href=https://colab.research.google.com/notebooks/data_table.ipynb>data table notebook</a>'\n",
              "            + ' to learn more about interactive tables.';\n",
              "          element.innerHTML = '';\n",
              "          dataTable['output_type'] = 'display_data';\n",
              "          await google.colab.output.renderOutput(dataTable, element);\n",
              "          const docLink = document.createElement('div');\n",
              "          docLink.innerHTML = docLinkHtml;\n",
              "          element.appendChild(docLink);\n",
              "        }\n",
              "      </script>\n",
              "    </div>\n",
              "  </div>\n",
              "  "
            ]
          },
          "metadata": {},
          "execution_count": 34
        }
      ],
      "source": [
        "# get the 30 unique county\n",
        "df_new = df[ df['FIPS'].isin(df['FIPS'].unique()[:30])]\n",
        "dic = {'A':4, 'B':3, 'C':2, 'D':1}\n",
        "df_new['SVI_new'] = df_new['SVI_CTGY'].replace(dic)\n",
        "df_new.head()"
      ]
    },
    {
      "cell_type": "code",
      "execution_count": 35,
      "metadata": {
        "id": "4Td-gIoP8UoM",
        "colab": {
          "base_uri": "https://localhost:8080/"
        },
        "outputId": "6f8f7cae-d20e-4c17-bb9d-91f00fc85c8d"
      },
      "outputs": [
        {
          "output_type": "execute_result",
          "data": {
            "text/plain": [
              "<bound method Series.unique of 0     55089\n",
              "1      1035\n",
              "2      5097\n",
              "3      5107\n",
              "4      6001\n",
              "5      6055\n",
              "6      8015\n",
              "7     12087\n",
              "8     13031\n",
              "9     13309\n",
              "10    19049\n",
              "11    19143\n",
              "12    17011\n",
              "13    18159\n",
              "14    21001\n",
              "15    21051\n",
              "16    21125\n",
              "17    21161\n",
              "18    21187\n",
              "19    21195\n",
              "20    22123\n",
              "21    23021\n",
              "22    26069\n",
              "23    26127\n",
              "24    27059\n",
              "25    27095\n",
              "26    29005\n",
              "27    29021\n",
              "28    28163\n",
              "29    30057\n",
              "Name: FIPS, dtype: int64>"
            ]
          },
          "metadata": {},
          "execution_count": 35
        }
      ],
      "source": [
        "df_new['FIPS'].unique"
      ]
    },
    {
      "cell_type": "code",
      "execution_count": 36,
      "metadata": {
        "id": "pFWYeJH7EPTr"
      },
      "outputs": [],
      "source": [
        "def fun(vec, data=df_new): # vec -vector of length 30(number of county selected)\n",
        "  popIncomplete = sum(vec*data['Incomplete_pop']) # sum because we need one single value instead of 30 different value\n",
        "  tVaccMi = sum(vec*data['tVaccMi'])\n",
        "  svi = sum(vec*data['SVI_new'])\n",
        "  return -1*((popIncomplete*svi)/tVaccMi) # optimization function\n"
      ]
    },
    {
      "cell_type": "code",
      "execution_count": 37,
      "metadata": {
        "id": "Oqw-GBdOIAtW",
        "colab": {
          "base_uri": "https://localhost:8080/"
        },
        "outputId": "9b58b3fc-7c28-4032-f81b-25f6522ec251"
      },
      "outputs": [
        {
          "output_type": "stream",
          "name": "stderr",
          "text": [
            "/usr/local/lib/python3.7/dist-packages/scipy/optimize/_hessian_update_strategy.py:187: UserWarning: delta_grad == 0.0. Check if the approximated function is linear. If the function is linear better results can be obtained by defining the Hessian as zero instead of using quasi-Newton approximations.\n",
            "  'approximations.', UserWarning)\n"
          ]
        }
      ],
      "source": [
        "from scipy.optimize import minimize\n",
        "import numpy as np\n",
        "import random\n",
        "\n",
        "bnd = ((0., 0.3) for i in range(30)) # fix the maximum and minimum value\n",
        "\n",
        "def con(vec):   # sum of all the weights should be 1 constraints # tolrernce how much accuracy(percesion)\n",
        "  return sum(vec)-1\n",
        "\n",
        "cons = [{'type': 'eq', 'fun':con}] # define constraints\n",
        "\n",
        "result = minimize(fun, x0 = np.random.rand(30)/10., bounds = bnd, constraints=cons, method='trust-constr',hessp=0, tol=1e-5, options={'maxiter':1000})"
      ]
    },
    {
      "cell_type": "code",
      "execution_count": 38,
      "metadata": {
        "id": "oRTnM2GRMCTd",
        "colab": {
          "base_uri": "https://localhost:8080/"
        },
        "outputId": "b0bc3896-985a-4634-9875-9603815e7430"
      },
      "outputs": [
        {
          "output_type": "execute_result",
          "data": {
            "text/plain": [
              "0.9999999999999998"
            ]
          },
          "metadata": {},
          "execution_count": 38
        }
      ],
      "source": [
        "sum(result['x'])"
      ]
    },
    {
      "cell_type": "code",
      "execution_count": 39,
      "metadata": {
        "id": "j7gwxrNcojjL",
        "colab": {
          "base_uri": "https://localhost:8080/"
        },
        "outputId": "d63cd728-03a4-4b85-c608-88984df5436f"
      },
      "outputs": [
        {
          "output_type": "execute_result",
          "data": {
            "text/plain": [
              "array([2.99580976e-01, 8.56384607e-05, 1.00777835e-04, 9.47569347e-05,\n",
              "       2.99910574e-01, 3.53107947e-05, 8.90113038e-05, 9.20026455e-05,\n",
              "       2.44841773e-04, 8.91325738e-05, 9.60429245e-02, 1.32011820e-04,\n",
              "       3.48961308e-04, 2.99968982e-01, 3.20171432e-04, 1.29003675e-04,\n",
              "       1.98223447e-04, 2.15565805e-04, 2.18452179e-04, 1.50307741e-04,\n",
              "       1.01679886e-04, 7.93334546e-05, 2.68055350e-04, 1.00111338e-04,\n",
              "       3.97375235e-04, 9.42947941e-05, 3.50401142e-04, 4.16891752e-04,\n",
              "       8.05453826e-05, 6.36850296e-05])"
            ]
          },
          "metadata": {},
          "execution_count": 39
        }
      ],
      "source": [
        "result['x']"
      ]
    },
    {
      "cell_type": "code",
      "execution_count": 40,
      "metadata": {
        "id": "lzXRi7xX_j7Y",
        "colab": {
          "base_uri": "https://localhost:8080/"
        },
        "outputId": "826936ff-d72a-48fa-ff5d-6998d270cea7"
      },
      "outputs": [
        {
          "output_type": "stream",
          "name": "stdout",
          "text": [
            "55089 0.2995809759259093\n",
            "1035 8.563846067757086e-05\n",
            "5097 0.00010077783534918524\n",
            "5107 9.475693469055682e-05\n",
            "6001 0.2999105740545047\n",
            "6055 3.531079470688109e-05\n",
            "8015 8.901130378305541e-05\n",
            "12087 9.200264546706562e-05\n",
            "13031 0.00024484177302039215\n",
            "13309 8.913257376385111e-05\n",
            "19049 0.09604292446678271\n",
            "19143 0.0001320118199061596\n",
            "17011 0.00034896130849629097\n",
            "18159 0.299968982460324\n",
            "21001 0.00032017143183138343\n",
            "21051 0.00012900367535236072\n",
            "21125 0.000198223447195439\n",
            "21161 0.00021556580474464584\n",
            "21187 0.00021845217887054536\n",
            "21195 0.0001503077408422705\n",
            "22123 0.0001016798857652465\n",
            "23021 7.933345456347958e-05\n",
            "26069 0.0002680553502448583\n",
            "26127 0.000100111338291381\n",
            "27059 0.00039737523531727814\n",
            "27095 9.42947941179797e-05\n",
            "29005 0.00035040114159710077\n",
            "29021 0.0004168917516670838\n",
            "28163 8.054538260785104e-05\n",
            "30057 6.368502960923551e-05\n"
          ]
        }
      ],
      "source": [
        "for i in range(30):  # print the result with county\n",
        "  print(df_new['FIPS'][i], result['x'][i])"
      ]
    },
    {
      "cell_type": "code",
      "execution_count": 41,
      "metadata": {
        "id": "7zAn9H0S_n48",
        "colab": {
          "base_uri": "https://localhost:8080/"
        },
        "outputId": "4a022974-1063-4269-a5bc-265af4983e97"
      },
      "outputs": [
        {
          "output_type": "execute_result",
          "data": {
            "text/plain": [
              "[(0.299968982460324, 18159),\n",
              " (0.2999105740545047, 6001),\n",
              " (0.2995809759259093, 55089),\n",
              " (0.09604292446678271, 19049),\n",
              " (0.0004168917516670838, 29021),\n",
              " (0.00039737523531727814, 27059),\n",
              " (0.00035040114159710077, 29005),\n",
              " (0.00034896130849629097, 17011),\n",
              " (0.00032017143183138343, 21001),\n",
              " (0.0002680553502448583, 26069),\n",
              " (0.00024484177302039215, 13031),\n",
              " (0.00021845217887054536, 21187),\n",
              " (0.00021556580474464584, 21161),\n",
              " (0.000198223447195439, 21125),\n",
              " (0.0001503077408422705, 21195),\n",
              " (0.0001320118199061596, 19143),\n",
              " (0.00012900367535236072, 21051),\n",
              " (0.0001016798857652465, 22123),\n",
              " (0.00010077783534918524, 5097),\n",
              " (0.000100111338291381, 26127),\n",
              " (9.475693469055682e-05, 5107),\n",
              " (9.42947941179797e-05, 27095),\n",
              " (9.200264546706562e-05, 12087),\n",
              " (8.913257376385111e-05, 13309),\n",
              " (8.901130378305541e-05, 8015),\n",
              " (8.563846067757086e-05, 1035),\n",
              " (8.054538260785104e-05, 28163),\n",
              " (7.933345456347958e-05, 23021),\n",
              " (6.368502960923551e-05, 30057),\n",
              " (3.531079470688109e-05, 6055)]"
            ]
          },
          "metadata": {},
          "execution_count": 41
        }
      ],
      "source": [
        "ls_new = [(val, county) for val, county in zip(result['x'], df_new['FIPS'])] # sort out the result\n",
        "ls_new = sorted(ls_new, reverse=True)\n",
        "ls_new"
      ]
    },
    {
      "cell_type": "code",
      "execution_count": 42,
      "metadata": {
        "id": "uWxelbZKAOhP",
        "colab": {
          "base_uri": "https://localhost:8080/",
          "height": 1000
        },
        "outputId": "0c20ac42-4771-4bf3-eb9f-5ffe5b6f3db0"
      },
      "outputs": [
        {
          "output_type": "stream",
          "name": "stderr",
          "text": [
            "/usr/local/lib/python3.7/dist-packages/ipykernel_launcher.py:1: SettingWithCopyWarning: \n",
            "A value is trying to be set on a copy of a slice from a DataFrame.\n",
            "Try using .loc[row_indexer,col_indexer] = value instead\n",
            "\n",
            "See the caveats in the documentation: https://pandas.pydata.org/pandas-docs/stable/user_guide/indexing.html#returning-a-view-versus-a-copy\n",
            "  \"\"\"Entry point for launching an IPython kernel.\n"
          ]
        },
        {
          "output_type": "execute_result",
          "data": {
            "text/plain": [
              "     FIPS  Completeness_pct SVI_CTGY  Census2019  tVaccMi  Incomplete_pop  \\\n",
              "0   55089              96.8        A       89221      395          2855.0   \n",
              "1    1035              92.5        D       12067      491           905.0   \n",
              "2    5097              90.5        C        8986      602           853.0   \n",
              "3    5107              90.5        D       17782      468          1689.0   \n",
              "4    6001              97.6        B     1671329     1957         40111.0   \n",
              "5    6055              97.6        C      137744     1962          3305.0   \n",
              "6    8015              97.1        A       20356     1127           590.0   \n",
              "7   12087              98.7        B       74228      899           964.0   \n",
              "8   13031              89.4        D       79608      474          8438.0   \n",
              "9   13309              89.4        D        7855      458           832.0   \n",
              "10  19049              97.4        A       93453      522          2429.0   \n",
              "11  19143              97.4        B        5958      631           154.0   \n",
              "12  17011              98.3        B       32628      349           554.0   \n",
              "13  18159              98.6        A       15148      279           212.0   \n",
              "14  21001              94.0        C       19202      175          1152.0   \n",
              "15  21051              94.0        D       19901      254          1194.0   \n",
              "16  21125              94.0        D       60813      232          3648.0   \n",
              "17  21161              94.0        C       17070      267          1024.0   \n",
              "18  21187              94.0        C       10901      238           654.0   \n",
              "19  21195              94.0        D       57876      325          3472.0   \n",
              "20  22123              96.9        C       10830      563           335.0   \n",
              "21  23021              96.2        B       16785      992           637.0   \n",
              "22  26069              95.1        B       25127      448          1231.0   \n",
              "23  26127              95.1        D       26467      405          1296.0   \n",
              "24  27059              94.6        A       40596      653          2192.0   \n",
              "25  27095              94.6        C       26277      683          1418.0   \n",
              "26  29005              91.3        A        5143      568           447.0   \n",
              "27  29021              91.3        C       87364      539          7600.0   \n",
              "28  28163              98.1        D       29690      519           564.0   \n",
              "29  30057              95.8        A        8600     1404           361.0   \n",
              "\n",
              "    SVI_new        val  \n",
              "0         4  28.911392  \n",
              "1         1   1.843177  \n",
              "2         2   2.833887  \n",
              "3         1   3.608974  \n",
              "4         3  61.488503  \n",
              "5         2   3.369011  \n",
              "6         4   2.094055  \n",
              "7         3   3.216908  \n",
              "8         1  17.801688  \n",
              "9         1   1.816594  \n",
              "10        4  18.613027  \n",
              "11        3   0.732171  \n",
              "12        3   4.762178  \n",
              "13        4   3.039427  \n",
              "14        2  13.165714  \n",
              "15        1   4.700787  \n",
              "16        1  15.724138  \n",
              "17        2   7.670412  \n",
              "18        2   5.495798  \n",
              "19        1  10.683077  \n",
              "20        2   1.190053  \n",
              "21        3   1.926411  \n",
              "22        3   8.243304  \n",
              "23        1   3.200000  \n",
              "24        4  13.427259  \n",
              "25        2   4.152269  \n",
              "26        4   3.147887  \n",
              "27        2  28.200371  \n",
              "28        1   1.086705  \n",
              "29        4   1.028490  "
            ],
            "text/html": [
              "\n",
              "  <div id=\"df-39bfeba8-08d7-4a59-8e83-a83a9e8a6909\">\n",
              "    <div class=\"colab-df-container\">\n",
              "      <div>\n",
              "<style scoped>\n",
              "    .dataframe tbody tr th:only-of-type {\n",
              "        vertical-align: middle;\n",
              "    }\n",
              "\n",
              "    .dataframe tbody tr th {\n",
              "        vertical-align: top;\n",
              "    }\n",
              "\n",
              "    .dataframe thead th {\n",
              "        text-align: right;\n",
              "    }\n",
              "</style>\n",
              "<table border=\"1\" class=\"dataframe\">\n",
              "  <thead>\n",
              "    <tr style=\"text-align: right;\">\n",
              "      <th></th>\n",
              "      <th>FIPS</th>\n",
              "      <th>Completeness_pct</th>\n",
              "      <th>SVI_CTGY</th>\n",
              "      <th>Census2019</th>\n",
              "      <th>tVaccMi</th>\n",
              "      <th>Incomplete_pop</th>\n",
              "      <th>SVI_new</th>\n",
              "      <th>val</th>\n",
              "    </tr>\n",
              "  </thead>\n",
              "  <tbody>\n",
              "    <tr>\n",
              "      <th>0</th>\n",
              "      <td>55089</td>\n",
              "      <td>96.8</td>\n",
              "      <td>A</td>\n",
              "      <td>89221</td>\n",
              "      <td>395</td>\n",
              "      <td>2855.0</td>\n",
              "      <td>4</td>\n",
              "      <td>28.911392</td>\n",
              "    </tr>\n",
              "    <tr>\n",
              "      <th>1</th>\n",
              "      <td>1035</td>\n",
              "      <td>92.5</td>\n",
              "      <td>D</td>\n",
              "      <td>12067</td>\n",
              "      <td>491</td>\n",
              "      <td>905.0</td>\n",
              "      <td>1</td>\n",
              "      <td>1.843177</td>\n",
              "    </tr>\n",
              "    <tr>\n",
              "      <th>2</th>\n",
              "      <td>5097</td>\n",
              "      <td>90.5</td>\n",
              "      <td>C</td>\n",
              "      <td>8986</td>\n",
              "      <td>602</td>\n",
              "      <td>853.0</td>\n",
              "      <td>2</td>\n",
              "      <td>2.833887</td>\n",
              "    </tr>\n",
              "    <tr>\n",
              "      <th>3</th>\n",
              "      <td>5107</td>\n",
              "      <td>90.5</td>\n",
              "      <td>D</td>\n",
              "      <td>17782</td>\n",
              "      <td>468</td>\n",
              "      <td>1689.0</td>\n",
              "      <td>1</td>\n",
              "      <td>3.608974</td>\n",
              "    </tr>\n",
              "    <tr>\n",
              "      <th>4</th>\n",
              "      <td>6001</td>\n",
              "      <td>97.6</td>\n",
              "      <td>B</td>\n",
              "      <td>1671329</td>\n",
              "      <td>1957</td>\n",
              "      <td>40111.0</td>\n",
              "      <td>3</td>\n",
              "      <td>61.488503</td>\n",
              "    </tr>\n",
              "    <tr>\n",
              "      <th>5</th>\n",
              "      <td>6055</td>\n",
              "      <td>97.6</td>\n",
              "      <td>C</td>\n",
              "      <td>137744</td>\n",
              "      <td>1962</td>\n",
              "      <td>3305.0</td>\n",
              "      <td>2</td>\n",
              "      <td>3.369011</td>\n",
              "    </tr>\n",
              "    <tr>\n",
              "      <th>6</th>\n",
              "      <td>8015</td>\n",
              "      <td>97.1</td>\n",
              "      <td>A</td>\n",
              "      <td>20356</td>\n",
              "      <td>1127</td>\n",
              "      <td>590.0</td>\n",
              "      <td>4</td>\n",
              "      <td>2.094055</td>\n",
              "    </tr>\n",
              "    <tr>\n",
              "      <th>7</th>\n",
              "      <td>12087</td>\n",
              "      <td>98.7</td>\n",
              "      <td>B</td>\n",
              "      <td>74228</td>\n",
              "      <td>899</td>\n",
              "      <td>964.0</td>\n",
              "      <td>3</td>\n",
              "      <td>3.216908</td>\n",
              "    </tr>\n",
              "    <tr>\n",
              "      <th>8</th>\n",
              "      <td>13031</td>\n",
              "      <td>89.4</td>\n",
              "      <td>D</td>\n",
              "      <td>79608</td>\n",
              "      <td>474</td>\n",
              "      <td>8438.0</td>\n",
              "      <td>1</td>\n",
              "      <td>17.801688</td>\n",
              "    </tr>\n",
              "    <tr>\n",
              "      <th>9</th>\n",
              "      <td>13309</td>\n",
              "      <td>89.4</td>\n",
              "      <td>D</td>\n",
              "      <td>7855</td>\n",
              "      <td>458</td>\n",
              "      <td>832.0</td>\n",
              "      <td>1</td>\n",
              "      <td>1.816594</td>\n",
              "    </tr>\n",
              "    <tr>\n",
              "      <th>10</th>\n",
              "      <td>19049</td>\n",
              "      <td>97.4</td>\n",
              "      <td>A</td>\n",
              "      <td>93453</td>\n",
              "      <td>522</td>\n",
              "      <td>2429.0</td>\n",
              "      <td>4</td>\n",
              "      <td>18.613027</td>\n",
              "    </tr>\n",
              "    <tr>\n",
              "      <th>11</th>\n",
              "      <td>19143</td>\n",
              "      <td>97.4</td>\n",
              "      <td>B</td>\n",
              "      <td>5958</td>\n",
              "      <td>631</td>\n",
              "      <td>154.0</td>\n",
              "      <td>3</td>\n",
              "      <td>0.732171</td>\n",
              "    </tr>\n",
              "    <tr>\n",
              "      <th>12</th>\n",
              "      <td>17011</td>\n",
              "      <td>98.3</td>\n",
              "      <td>B</td>\n",
              "      <td>32628</td>\n",
              "      <td>349</td>\n",
              "      <td>554.0</td>\n",
              "      <td>3</td>\n",
              "      <td>4.762178</td>\n",
              "    </tr>\n",
              "    <tr>\n",
              "      <th>13</th>\n",
              "      <td>18159</td>\n",
              "      <td>98.6</td>\n",
              "      <td>A</td>\n",
              "      <td>15148</td>\n",
              "      <td>279</td>\n",
              "      <td>212.0</td>\n",
              "      <td>4</td>\n",
              "      <td>3.039427</td>\n",
              "    </tr>\n",
              "    <tr>\n",
              "      <th>14</th>\n",
              "      <td>21001</td>\n",
              "      <td>94.0</td>\n",
              "      <td>C</td>\n",
              "      <td>19202</td>\n",
              "      <td>175</td>\n",
              "      <td>1152.0</td>\n",
              "      <td>2</td>\n",
              "      <td>13.165714</td>\n",
              "    </tr>\n",
              "    <tr>\n",
              "      <th>15</th>\n",
              "      <td>21051</td>\n",
              "      <td>94.0</td>\n",
              "      <td>D</td>\n",
              "      <td>19901</td>\n",
              "      <td>254</td>\n",
              "      <td>1194.0</td>\n",
              "      <td>1</td>\n",
              "      <td>4.700787</td>\n",
              "    </tr>\n",
              "    <tr>\n",
              "      <th>16</th>\n",
              "      <td>21125</td>\n",
              "      <td>94.0</td>\n",
              "      <td>D</td>\n",
              "      <td>60813</td>\n",
              "      <td>232</td>\n",
              "      <td>3648.0</td>\n",
              "      <td>1</td>\n",
              "      <td>15.724138</td>\n",
              "    </tr>\n",
              "    <tr>\n",
              "      <th>17</th>\n",
              "      <td>21161</td>\n",
              "      <td>94.0</td>\n",
              "      <td>C</td>\n",
              "      <td>17070</td>\n",
              "      <td>267</td>\n",
              "      <td>1024.0</td>\n",
              "      <td>2</td>\n",
              "      <td>7.670412</td>\n",
              "    </tr>\n",
              "    <tr>\n",
              "      <th>18</th>\n",
              "      <td>21187</td>\n",
              "      <td>94.0</td>\n",
              "      <td>C</td>\n",
              "      <td>10901</td>\n",
              "      <td>238</td>\n",
              "      <td>654.0</td>\n",
              "      <td>2</td>\n",
              "      <td>5.495798</td>\n",
              "    </tr>\n",
              "    <tr>\n",
              "      <th>19</th>\n",
              "      <td>21195</td>\n",
              "      <td>94.0</td>\n",
              "      <td>D</td>\n",
              "      <td>57876</td>\n",
              "      <td>325</td>\n",
              "      <td>3472.0</td>\n",
              "      <td>1</td>\n",
              "      <td>10.683077</td>\n",
              "    </tr>\n",
              "    <tr>\n",
              "      <th>20</th>\n",
              "      <td>22123</td>\n",
              "      <td>96.9</td>\n",
              "      <td>C</td>\n",
              "      <td>10830</td>\n",
              "      <td>563</td>\n",
              "      <td>335.0</td>\n",
              "      <td>2</td>\n",
              "      <td>1.190053</td>\n",
              "    </tr>\n",
              "    <tr>\n",
              "      <th>21</th>\n",
              "      <td>23021</td>\n",
              "      <td>96.2</td>\n",
              "      <td>B</td>\n",
              "      <td>16785</td>\n",
              "      <td>992</td>\n",
              "      <td>637.0</td>\n",
              "      <td>3</td>\n",
              "      <td>1.926411</td>\n",
              "    </tr>\n",
              "    <tr>\n",
              "      <th>22</th>\n",
              "      <td>26069</td>\n",
              "      <td>95.1</td>\n",
              "      <td>B</td>\n",
              "      <td>25127</td>\n",
              "      <td>448</td>\n",
              "      <td>1231.0</td>\n",
              "      <td>3</td>\n",
              "      <td>8.243304</td>\n",
              "    </tr>\n",
              "    <tr>\n",
              "      <th>23</th>\n",
              "      <td>26127</td>\n",
              "      <td>95.1</td>\n",
              "      <td>D</td>\n",
              "      <td>26467</td>\n",
              "      <td>405</td>\n",
              "      <td>1296.0</td>\n",
              "      <td>1</td>\n",
              "      <td>3.200000</td>\n",
              "    </tr>\n",
              "    <tr>\n",
              "      <th>24</th>\n",
              "      <td>27059</td>\n",
              "      <td>94.6</td>\n",
              "      <td>A</td>\n",
              "      <td>40596</td>\n",
              "      <td>653</td>\n",
              "      <td>2192.0</td>\n",
              "      <td>4</td>\n",
              "      <td>13.427259</td>\n",
              "    </tr>\n",
              "    <tr>\n",
              "      <th>25</th>\n",
              "      <td>27095</td>\n",
              "      <td>94.6</td>\n",
              "      <td>C</td>\n",
              "      <td>26277</td>\n",
              "      <td>683</td>\n",
              "      <td>1418.0</td>\n",
              "      <td>2</td>\n",
              "      <td>4.152269</td>\n",
              "    </tr>\n",
              "    <tr>\n",
              "      <th>26</th>\n",
              "      <td>29005</td>\n",
              "      <td>91.3</td>\n",
              "      <td>A</td>\n",
              "      <td>5143</td>\n",
              "      <td>568</td>\n",
              "      <td>447.0</td>\n",
              "      <td>4</td>\n",
              "      <td>3.147887</td>\n",
              "    </tr>\n",
              "    <tr>\n",
              "      <th>27</th>\n",
              "      <td>29021</td>\n",
              "      <td>91.3</td>\n",
              "      <td>C</td>\n",
              "      <td>87364</td>\n",
              "      <td>539</td>\n",
              "      <td>7600.0</td>\n",
              "      <td>2</td>\n",
              "      <td>28.200371</td>\n",
              "    </tr>\n",
              "    <tr>\n",
              "      <th>28</th>\n",
              "      <td>28163</td>\n",
              "      <td>98.1</td>\n",
              "      <td>D</td>\n",
              "      <td>29690</td>\n",
              "      <td>519</td>\n",
              "      <td>564.0</td>\n",
              "      <td>1</td>\n",
              "      <td>1.086705</td>\n",
              "    </tr>\n",
              "    <tr>\n",
              "      <th>29</th>\n",
              "      <td>30057</td>\n",
              "      <td>95.8</td>\n",
              "      <td>A</td>\n",
              "      <td>8600</td>\n",
              "      <td>1404</td>\n",
              "      <td>361.0</td>\n",
              "      <td>4</td>\n",
              "      <td>1.028490</td>\n",
              "    </tr>\n",
              "  </tbody>\n",
              "</table>\n",
              "</div>\n",
              "      <button class=\"colab-df-convert\" onclick=\"convertToInteractive('df-39bfeba8-08d7-4a59-8e83-a83a9e8a6909')\"\n",
              "              title=\"Convert this dataframe to an interactive table.\"\n",
              "              style=\"display:none;\">\n",
              "        \n",
              "  <svg xmlns=\"http://www.w3.org/2000/svg\" height=\"24px\"viewBox=\"0 0 24 24\"\n",
              "       width=\"24px\">\n",
              "    <path d=\"M0 0h24v24H0V0z\" fill=\"none\"/>\n",
              "    <path d=\"M18.56 5.44l.94 2.06.94-2.06 2.06-.94-2.06-.94-.94-2.06-.94 2.06-2.06.94zm-11 1L8.5 8.5l.94-2.06 2.06-.94-2.06-.94L8.5 2.5l-.94 2.06-2.06.94zm10 10l.94 2.06.94-2.06 2.06-.94-2.06-.94-.94-2.06-.94 2.06-2.06.94z\"/><path d=\"M17.41 7.96l-1.37-1.37c-.4-.4-.92-.59-1.43-.59-.52 0-1.04.2-1.43.59L10.3 9.45l-7.72 7.72c-.78.78-.78 2.05 0 2.83L4 21.41c.39.39.9.59 1.41.59.51 0 1.02-.2 1.41-.59l7.78-7.78 2.81-2.81c.8-.78.8-2.07 0-2.86zM5.41 20L4 18.59l7.72-7.72 1.47 1.35L5.41 20z\"/>\n",
              "  </svg>\n",
              "      </button>\n",
              "      \n",
              "  <style>\n",
              "    .colab-df-container {\n",
              "      display:flex;\n",
              "      flex-wrap:wrap;\n",
              "      gap: 12px;\n",
              "    }\n",
              "\n",
              "    .colab-df-convert {\n",
              "      background-color: #E8F0FE;\n",
              "      border: none;\n",
              "      border-radius: 50%;\n",
              "      cursor: pointer;\n",
              "      display: none;\n",
              "      fill: #1967D2;\n",
              "      height: 32px;\n",
              "      padding: 0 0 0 0;\n",
              "      width: 32px;\n",
              "    }\n",
              "\n",
              "    .colab-df-convert:hover {\n",
              "      background-color: #E2EBFA;\n",
              "      box-shadow: 0px 1px 2px rgba(60, 64, 67, 0.3), 0px 1px 3px 1px rgba(60, 64, 67, 0.15);\n",
              "      fill: #174EA6;\n",
              "    }\n",
              "\n",
              "    [theme=dark] .colab-df-convert {\n",
              "      background-color: #3B4455;\n",
              "      fill: #D2E3FC;\n",
              "    }\n",
              "\n",
              "    [theme=dark] .colab-df-convert:hover {\n",
              "      background-color: #434B5C;\n",
              "      box-shadow: 0px 1px 3px 1px rgba(0, 0, 0, 0.15);\n",
              "      filter: drop-shadow(0px 1px 2px rgba(0, 0, 0, 0.3));\n",
              "      fill: #FFFFFF;\n",
              "    }\n",
              "  </style>\n",
              "\n",
              "      <script>\n",
              "        const buttonEl =\n",
              "          document.querySelector('#df-39bfeba8-08d7-4a59-8e83-a83a9e8a6909 button.colab-df-convert');\n",
              "        buttonEl.style.display =\n",
              "          google.colab.kernel.accessAllowed ? 'block' : 'none';\n",
              "\n",
              "        async function convertToInteractive(key) {\n",
              "          const element = document.querySelector('#df-39bfeba8-08d7-4a59-8e83-a83a9e8a6909');\n",
              "          const dataTable =\n",
              "            await google.colab.kernel.invokeFunction('convertToInteractive',\n",
              "                                                     [key], {});\n",
              "          if (!dataTable) return;\n",
              "\n",
              "          const docLinkHtml = 'Like what you see? Visit the ' +\n",
              "            '<a target=\"_blank\" href=https://colab.research.google.com/notebooks/data_table.ipynb>data table notebook</a>'\n",
              "            + ' to learn more about interactive tables.';\n",
              "          element.innerHTML = '';\n",
              "          dataTable['output_type'] = 'display_data';\n",
              "          await google.colab.output.renderOutput(dataTable, element);\n",
              "          const docLink = document.createElement('div');\n",
              "          docLink.innerHTML = docLinkHtml;\n",
              "          element.appendChild(docLink);\n",
              "        }\n",
              "      </script>\n",
              "    </div>\n",
              "  </div>\n",
              "  "
            ]
          },
          "metadata": {},
          "execution_count": 42
        }
      ],
      "source": [
        "df_new['val'] = df_new['Incomplete_pop']*df_new['SVI_new']/df_new['tVaccMi']\n",
        "\n",
        "df_new.head(30)"
      ]
    },
    {
      "cell_type": "code",
      "execution_count": 43,
      "metadata": {
        "id": "jpRB_Lg1AXkx",
        "colab": {
          "base_uri": "https://localhost:8080/",
          "height": 310
        },
        "outputId": "845c163c-7f42-4ad9-c0c5-9f4fabd8ab6e"
      },
      "outputs": [
        {
          "output_type": "stream",
          "name": "stderr",
          "text": [
            "/usr/local/lib/python3.7/dist-packages/ipykernel_launcher.py:4: SettingWithCopyWarning: \n",
            "A value is trying to be set on a copy of a slice from a DataFrame.\n",
            "Try using .loc[row_indexer,col_indexer] = value instead\n",
            "\n",
            "See the caveats in the documentation: https://pandas.pydata.org/pandas-docs/stable/user_guide/indexing.html#returning-a-view-versus-a-copy\n",
            "  after removing the cwd from sys.path.\n"
          ]
        },
        {
          "output_type": "execute_result",
          "data": {
            "text/plain": [
              "    FIPS  Completeness_pct SVI_CTGY  Census2019  tVaccMi  Incomplete_pop  \\\n",
              "0  55089              96.8        A       89221      395          2855.0   \n",
              "1   1035              92.5        D       12067      491           905.0   \n",
              "2   5097              90.5        C        8986      602           853.0   \n",
              "3   5107              90.5        D       17782      468          1689.0   \n",
              "4   6001              97.6        B     1671329     1957         40111.0   \n",
              "\n",
              "   SVI_new  \n",
              "0        4  \n",
              "1        1  \n",
              "2        2  \n",
              "3        1  \n",
              "4        3  "
            ],
            "text/html": [
              "\n",
              "  <div id=\"df-0cdb6e30-b634-4f90-b218-eb6bdb83037a\">\n",
              "    <div class=\"colab-df-container\">\n",
              "      <div>\n",
              "<style scoped>\n",
              "    .dataframe tbody tr th:only-of-type {\n",
              "        vertical-align: middle;\n",
              "    }\n",
              "\n",
              "    .dataframe tbody tr th {\n",
              "        vertical-align: top;\n",
              "    }\n",
              "\n",
              "    .dataframe thead th {\n",
              "        text-align: right;\n",
              "    }\n",
              "</style>\n",
              "<table border=\"1\" class=\"dataframe\">\n",
              "  <thead>\n",
              "    <tr style=\"text-align: right;\">\n",
              "      <th></th>\n",
              "      <th>FIPS</th>\n",
              "      <th>Completeness_pct</th>\n",
              "      <th>SVI_CTGY</th>\n",
              "      <th>Census2019</th>\n",
              "      <th>tVaccMi</th>\n",
              "      <th>Incomplete_pop</th>\n",
              "      <th>SVI_new</th>\n",
              "    </tr>\n",
              "  </thead>\n",
              "  <tbody>\n",
              "    <tr>\n",
              "      <th>0</th>\n",
              "      <td>55089</td>\n",
              "      <td>96.8</td>\n",
              "      <td>A</td>\n",
              "      <td>89221</td>\n",
              "      <td>395</td>\n",
              "      <td>2855.0</td>\n",
              "      <td>4</td>\n",
              "    </tr>\n",
              "    <tr>\n",
              "      <th>1</th>\n",
              "      <td>1035</td>\n",
              "      <td>92.5</td>\n",
              "      <td>D</td>\n",
              "      <td>12067</td>\n",
              "      <td>491</td>\n",
              "      <td>905.0</td>\n",
              "      <td>1</td>\n",
              "    </tr>\n",
              "    <tr>\n",
              "      <th>2</th>\n",
              "      <td>5097</td>\n",
              "      <td>90.5</td>\n",
              "      <td>C</td>\n",
              "      <td>8986</td>\n",
              "      <td>602</td>\n",
              "      <td>853.0</td>\n",
              "      <td>2</td>\n",
              "    </tr>\n",
              "    <tr>\n",
              "      <th>3</th>\n",
              "      <td>5107</td>\n",
              "      <td>90.5</td>\n",
              "      <td>D</td>\n",
              "      <td>17782</td>\n",
              "      <td>468</td>\n",
              "      <td>1689.0</td>\n",
              "      <td>1</td>\n",
              "    </tr>\n",
              "    <tr>\n",
              "      <th>4</th>\n",
              "      <td>6001</td>\n",
              "      <td>97.6</td>\n",
              "      <td>B</td>\n",
              "      <td>1671329</td>\n",
              "      <td>1957</td>\n",
              "      <td>40111.0</td>\n",
              "      <td>3</td>\n",
              "    </tr>\n",
              "  </tbody>\n",
              "</table>\n",
              "</div>\n",
              "      <button class=\"colab-df-convert\" onclick=\"convertToInteractive('df-0cdb6e30-b634-4f90-b218-eb6bdb83037a')\"\n",
              "              title=\"Convert this dataframe to an interactive table.\"\n",
              "              style=\"display:none;\">\n",
              "        \n",
              "  <svg xmlns=\"http://www.w3.org/2000/svg\" height=\"24px\"viewBox=\"0 0 24 24\"\n",
              "       width=\"24px\">\n",
              "    <path d=\"M0 0h24v24H0V0z\" fill=\"none\"/>\n",
              "    <path d=\"M18.56 5.44l.94 2.06.94-2.06 2.06-.94-2.06-.94-.94-2.06-.94 2.06-2.06.94zm-11 1L8.5 8.5l.94-2.06 2.06-.94-2.06-.94L8.5 2.5l-.94 2.06-2.06.94zm10 10l.94 2.06.94-2.06 2.06-.94-2.06-.94-.94-2.06-.94 2.06-2.06.94z\"/><path d=\"M17.41 7.96l-1.37-1.37c-.4-.4-.92-.59-1.43-.59-.52 0-1.04.2-1.43.59L10.3 9.45l-7.72 7.72c-.78.78-.78 2.05 0 2.83L4 21.41c.39.39.9.59 1.41.59.51 0 1.02-.2 1.41-.59l7.78-7.78 2.81-2.81c.8-.78.8-2.07 0-2.86zM5.41 20L4 18.59l7.72-7.72 1.47 1.35L5.41 20z\"/>\n",
              "  </svg>\n",
              "      </button>\n",
              "      \n",
              "  <style>\n",
              "    .colab-df-container {\n",
              "      display:flex;\n",
              "      flex-wrap:wrap;\n",
              "      gap: 12px;\n",
              "    }\n",
              "\n",
              "    .colab-df-convert {\n",
              "      background-color: #E8F0FE;\n",
              "      border: none;\n",
              "      border-radius: 50%;\n",
              "      cursor: pointer;\n",
              "      display: none;\n",
              "      fill: #1967D2;\n",
              "      height: 32px;\n",
              "      padding: 0 0 0 0;\n",
              "      width: 32px;\n",
              "    }\n",
              "\n",
              "    .colab-df-convert:hover {\n",
              "      background-color: #E2EBFA;\n",
              "      box-shadow: 0px 1px 2px rgba(60, 64, 67, 0.3), 0px 1px 3px 1px rgba(60, 64, 67, 0.15);\n",
              "      fill: #174EA6;\n",
              "    }\n",
              "\n",
              "    [theme=dark] .colab-df-convert {\n",
              "      background-color: #3B4455;\n",
              "      fill: #D2E3FC;\n",
              "    }\n",
              "\n",
              "    [theme=dark] .colab-df-convert:hover {\n",
              "      background-color: #434B5C;\n",
              "      box-shadow: 0px 1px 3px 1px rgba(0, 0, 0, 0.15);\n",
              "      filter: drop-shadow(0px 1px 2px rgba(0, 0, 0, 0.3));\n",
              "      fill: #FFFFFF;\n",
              "    }\n",
              "  </style>\n",
              "\n",
              "      <script>\n",
              "        const buttonEl =\n",
              "          document.querySelector('#df-0cdb6e30-b634-4f90-b218-eb6bdb83037a button.colab-df-convert');\n",
              "        buttonEl.style.display =\n",
              "          google.colab.kernel.accessAllowed ? 'block' : 'none';\n",
              "\n",
              "        async function convertToInteractive(key) {\n",
              "          const element = document.querySelector('#df-0cdb6e30-b634-4f90-b218-eb6bdb83037a');\n",
              "          const dataTable =\n",
              "            await google.colab.kernel.invokeFunction('convertToInteractive',\n",
              "                                                     [key], {});\n",
              "          if (!dataTable) return;\n",
              "\n",
              "          const docLinkHtml = 'Like what you see? Visit the ' +\n",
              "            '<a target=\"_blank\" href=https://colab.research.google.com/notebooks/data_table.ipynb>data table notebook</a>'\n",
              "            + ' to learn more about interactive tables.';\n",
              "          element.innerHTML = '';\n",
              "          dataTable['output_type'] = 'display_data';\n",
              "          await google.colab.output.renderOutput(dataTable, element);\n",
              "          const docLink = document.createElement('div');\n",
              "          docLink.innerHTML = docLinkHtml;\n",
              "          element.appendChild(docLink);\n",
              "        }\n",
              "      </script>\n",
              "    </div>\n",
              "  </div>\n",
              "  "
            ]
          },
          "metadata": {},
          "execution_count": 43
        }
      ],
      "source": [
        "# get the 300 unique county\n",
        "df_new = df[ df['FIPS'].isin(df['FIPS'].unique()[:300])]\n",
        "dic = {'A':4, 'B':3, 'C':2, 'D':1}\n",
        "df_new['SVI_new'] = df_new['SVI_CTGY'].replace(dic)\n",
        "df_new.head()"
      ]
    },
    {
      "cell_type": "code",
      "execution_count": 44,
      "metadata": {
        "id": "OktPoC_VFyKF",
        "colab": {
          "base_uri": "https://localhost:8080/"
        },
        "outputId": "86fa6738-cb4f-43a9-9d5e-2675e6ebb195"
      },
      "outputs": [
        {
          "output_type": "execute_result",
          "data": {
            "text/plain": [
              "300"
            ]
          },
          "metadata": {},
          "execution_count": 44
        }
      ],
      "source": [
        "df_new['FIPS'].nunique()"
      ]
    },
    {
      "cell_type": "code",
      "execution_count": 45,
      "metadata": {
        "id": "jD5UHVudF7zK"
      },
      "outputs": [],
      "source": [
        "def fun(vec, data=df_new): # vec -vector of length 300(number of county selected)\n",
        "  popIncomplete = sum(vec*data['Incomplete_pop']) # sum because we need one single value instead of 300 different value\n",
        "  tVaccMi = sum(vec*data['tVaccMi'])\n",
        "  svi = sum(vec*data['SVI_new'])\n",
        "  return -1*((popIncomplete*svi)/tVaccMi) # optimization function\n"
      ]
    },
    {
      "cell_type": "code",
      "execution_count": 46,
      "metadata": {
        "id": "n2WrWEz7GGNg",
        "colab": {
          "base_uri": "https://localhost:8080/"
        },
        "outputId": "5fcd79ac-81b3-4f47-e4d3-9335cf00cf6a"
      },
      "outputs": [
        {
          "output_type": "stream",
          "name": "stderr",
          "text": [
            "/usr/local/lib/python3.7/dist-packages/scipy/optimize/_hessian_update_strategy.py:187: UserWarning: delta_grad == 0.0. Check if the approximated function is linear. If the function is linear better results can be obtained by defining the Hessian as zero instead of using quasi-Newton approximations.\n",
            "  'approximations.', UserWarning)\n"
          ]
        }
      ],
      "source": [
        "from scipy.optimize import minimize\n",
        "import numpy as np\n",
        "import random\n",
        "\n",
        "n = df_new['FIPS'].nunique()\n",
        "bnd = ((0., 0.3) for i in range(n)) # fix the maximum and minimum value\n",
        "\n",
        "def con(vec):   # sum of all the weights should be 1 constraints # tolrernce how much accuracy(percesion)\n",
        "  return sum(vec)-1\n",
        "\n",
        "cons = [{'type': 'eq', 'fun':con}] # define constraints\n",
        "\n",
        "result = minimize(fun,x0 = np.random.rand(n)/10., bounds = bnd, constraints=cons, method='trust-constr',hessp=0,tol=1e-10, options={'maxiter':10})"
      ]
    },
    {
      "cell_type": "code",
      "execution_count": 47,
      "metadata": {
        "id": "rvlMj6XkGp_l",
        "colab": {
          "base_uri": "https://localhost:8080/"
        },
        "outputId": "4bd8ddcc-39da-4288-968e-5744c5cc7008"
      },
      "outputs": [
        {
          "output_type": "execute_result",
          "data": {
            "text/plain": [
              "(1.4679455483563046,\n",
              " array([ 5.15994705e-02, -2.60539769e-02, -2.65294527e-02, -5.07143271e-02,\n",
              "         9.55205036e-02, -1.21817704e-02,  2.40337608e-02, -2.36554605e-02,\n",
              "        -1.78709050e-03,  4.05069706e-03,  2.14396400e-02, -2.33192868e-02,\n",
              "         4.25991988e-02,  6.60900500e-02, -3.32889908e-03, -2.67464847e-02,\n",
              "        -5.33504772e-02, -4.42359890e-02, -3.43337524e-03, -3.02090756e-02,\n",
              "         1.52791251e-02,  2.26613400e-02, -5.08772023e-03, -6.92904651e-03,\n",
              "         6.24733291e-02, -1.55125076e-02,  1.61364654e-02,  5.13359538e-02,\n",
              "         2.55690799e-03,  3.23245069e-02, -2.03670672e-02, -4.24519271e-02,\n",
              "        -4.15416344e-02, -3.25189955e-02,  4.52959706e-02,  1.86141719e-02,\n",
              "        -5.53624997e-04, -4.16113027e-03,  1.24102858e-01,  2.19628459e-02,\n",
              "        -1.37216903e-02, -5.27343017e-03, -2.03428097e-02,  7.74989163e-03,\n",
              "         2.22379712e-02, -1.29852130e-02, -2.76608092e-02,  4.89789555e-02,\n",
              "        -4.63299518e-02, -6.30879755e-02, -3.36099037e-02,  1.50738407e-02,\n",
              "         1.24598668e-02, -1.87571467e-02, -4.09637787e-02, -7.21943857e-02,\n",
              "         2.57601511e-02, -3.36694154e-03, -4.04605290e-02,  6.99039950e-02,\n",
              "        -1.78236874e-02, -3.55461022e-02, -1.56746138e-02, -3.31051718e-02,\n",
              "        -5.94830432e-02,  6.50769224e-02,  3.36228116e-02, -2.18260810e-02,\n",
              "        -5.76845896e-02,  1.89398850e-04,  2.33613637e-02,  2.43542579e-02,\n",
              "        -5.13100241e-02,  5.90483961e-02,  4.31766669e-02,  2.53846377e-02,\n",
              "         2.29246982e-02,  3.32623899e-02,  5.48333307e-02,  9.09852488e-03,\n",
              "         1.26903858e-02,  1.70782133e-02,  4.50424488e-02,  4.06477003e-02,\n",
              "        -1.26363513e-03, -2.35579919e-02, -5.66528851e-03, -2.15274978e-02,\n",
              "        -5.69631313e-02, -2.16917886e-02,  8.05582426e-03, -2.36094875e-02,\n",
              "        -2.60682476e-02,  1.19317510e-02,  6.22106214e-02, -3.44229275e-02,\n",
              "        -8.30926338e-03, -2.70662798e-02, -1.68644837e-02,  2.21229184e-02,\n",
              "         2.25025204e-02,  3.02227708e-04, -5.41286113e-02, -3.64432855e-02,\n",
              "         3.85181743e-02,  5.06770357e-02, -9.61260811e-03,  1.98785364e-02,\n",
              "         2.12363836e-02, -4.64989001e-02, -2.17796234e-02, -1.05699637e-02,\n",
              "         2.22873909e-02,  6.58664568e-03, -6.19373756e-04,  5.51390065e-02,\n",
              "         8.37299586e-03,  3.93360664e-02, -4.10887142e-02,  2.30799235e-03,\n",
              "        -6.37943727e-03, -2.25043849e-02, -4.01067283e-02, -3.78781479e-02,\n",
              "         4.58457209e-02,  4.42946682e-02, -6.54276187e-03, -3.40180108e-02,\n",
              "         3.17812363e-02, -1.47758142e-02, -2.92122438e-02, -1.64488140e-02,\n",
              "         3.69449924e-02, -2.08158449e-02, -3.01994925e-02,  1.21978390e-01,\n",
              "         2.26516778e-01, -3.19299642e-02,  5.26017266e-02, -1.30461890e-02,\n",
              "        -1.07574700e-02,  1.24349789e-01, -3.48624987e-02,  4.13917433e-02,\n",
              "         2.36730013e-02,  1.46247950e-02, -3.36463393e-02, -3.75727577e-02,\n",
              "        -4.31843431e-02, -3.04992505e-04,  4.66455143e-04, -2.60417330e-02,\n",
              "         1.43189870e-02, -9.68300554e-04, -5.69405372e-03,  2.56084951e-02,\n",
              "         1.06842002e-02,  1.92335356e-02,  3.16122143e-03, -6.68612959e-02,\n",
              "        -4.80432112e-03, -2.96185172e-02,  9.74543721e-03,  3.24926628e-02,\n",
              "         1.43354950e-02, -2.40458705e-02, -2.23149236e-02,  3.14783408e-02,\n",
              "         2.03063054e-03, -1.13754134e-02,  1.48321588e-02, -2.95912103e-02,\n",
              "         1.52958528e-02, -3.97498949e-02,  5.71414179e-02, -1.51089483e-02,\n",
              "         6.25077281e-03, -6.03166154e-02,  3.25441373e-02,  8.12898479e-02,\n",
              "         3.34817279e-02, -1.22608271e-03, -1.97329083e-02, -3.58417651e-02,\n",
              "        -2.10180120e-02, -7.13563337e-03,  3.51097812e-02,  2.00835228e-01,\n",
              "         6.48362078e-02,  2.87888550e-02,  9.28286198e-03,  3.21282567e-03,\n",
              "        -2.78833136e-02,  1.42927170e-02, -5.14056374e-03, -1.01240256e-01,\n",
              "         2.14424859e-02,  9.14975375e-04, -8.13722394e-03,  1.83147656e-02,\n",
              "        -4.09650614e-02,  3.72396417e-02,  8.92085102e-02,  5.78796287e-02,\n",
              "         3.43496733e-02, -5.56155520e-02,  4.12843245e-02, -3.06463367e-05,\n",
              "         6.24498716e-03,  4.29285244e-02,  3.54934432e-02, -2.91283179e-02,\n",
              "        -2.73229186e-02,  5.37504701e-02, -8.02057777e-03, -2.16609135e-02,\n",
              "        -1.03855703e-02,  1.16820732e-02,  3.73638451e-02,  1.17543794e-02,\n",
              "        -1.67011814e-02,  3.00647767e-02, -5.14463171e-02, -6.44972394e-02,\n",
              "        -2.79535261e-02,  3.13952983e-03,  1.18738029e-03,  4.38729565e-02,\n",
              "         2.31012125e-02, -3.05413753e-02,  3.73273617e-02,  4.66046216e-02,\n",
              "        -3.52608630e-02, -5.22981313e-02,  1.37506099e-02,  4.81601658e-02,\n",
              "         2.25205626e-02, -1.76898517e-02, -3.53916722e-02, -6.38886098e-02,\n",
              "         1.30552810e-03, -4.70173250e-02,  5.36269800e-02,  4.77823820e-02,\n",
              "        -2.74826279e-02,  4.77714242e-02,  3.09377426e-02, -4.90163743e-02,\n",
              "         4.33222064e-02,  1.98083978e-02,  2.18920652e-02, -5.52601993e-02,\n",
              "        -9.43873361e-03, -3.06836454e-02,  4.56198044e-02,  3.15439569e-02,\n",
              "        -5.51005587e-02, -8.05907131e-03,  1.34203612e-02,  2.41613925e-02,\n",
              "         4.80310351e-03,  1.47725030e-01,  3.28803849e-02,  4.47482807e-03,\n",
              "        -2.89609931e-02,  1.80479954e-01, -1.38027455e-02,  2.66043169e-02,\n",
              "        -5.45425409e-03,  5.37689403e-02,  1.06052019e-02, -7.54158717e-03,\n",
              "        -1.33190086e-02,  1.36215797e-02, -5.68516334e-02,  4.32681913e-02,\n",
              "        -1.50039230e-02,  2.81743173e-02,  1.05615638e-01,  1.83657332e-02,\n",
              "         2.15802785e-02, -1.69428846e-02,  4.50549544e-02, -3.55446547e-04,\n",
              "        -3.32718326e-02, -1.00871944e-02, -3.23190882e-02, -5.43972966e-02,\n",
              "        -4.02145141e-02,  5.60979675e-02,  5.92742001e-02, -4.70466532e-02,\n",
              "        -6.47626679e-02, -5.12730082e-03,  8.18309553e-03,  1.13538150e-01,\n",
              "         3.72202623e-02, -8.07144007e-03,  2.85679839e-02, -4.29353918e-02]))"
            ]
          },
          "metadata": {},
          "execution_count": 47
        }
      ],
      "source": [
        "sum(result['x']), result['x']\n"
      ]
    },
    {
      "cell_type": "code",
      "source": [
        "result['x'].min()"
      ],
      "metadata": {
        "id": "yM2OuSSvG0VV",
        "colab": {
          "base_uri": "https://localhost:8080/"
        },
        "outputId": "266e5846-081f-43d7-8fed-7a51fd98c481"
      },
      "execution_count": 48,
      "outputs": [
        {
          "output_type": "execute_result",
          "data": {
            "text/plain": [
              "-0.1012402558708147"
            ]
          },
          "metadata": {},
          "execution_count": 48
        }
      ]
    },
    {
      "cell_type": "code",
      "execution_count": 49,
      "metadata": {
        "id": "57dpJn2yGxiE"
      },
      "outputs": [],
      "source": [
        "ls_new = [(val, county) for val, county in zip(result['x'], df_new['FIPS'])] # sort out the result\n",
        "ls_new = sorted(ls_new, reverse=True)"
      ]
    },
    {
      "cell_type": "code",
      "execution_count": 50,
      "metadata": {
        "id": "01YscVTORqYc",
        "colab": {
          "base_uri": "https://localhost:8080/"
        },
        "outputId": "622bd8b3-722c-4687-a070-4b3a6b174d41"
      },
      "outputs": [
        {
          "output_type": "execute_result",
          "data": {
            "text/plain": [
              "[(0.2265167776454963, 32003),\n",
              " (0.2008352278390878, 51041),\n",
              " (0.18047995427606958, 53033),\n",
              " (0.1477250300218668, 51087),\n",
              " (0.12434978889121404, 42101),\n",
              " (0.12410285818338951, 34029),\n",
              " (0.12197838981037161, 34017),\n",
              " (0.11353815030500841, 26081),\n",
              " (0.10561563799745766, 13223),\n",
              " (0.09552050364334258, 6001),\n",
              " (0.08920851021055808, 13057),\n",
              " (0.08128984790319892, 45063),\n",
              " (0.06990399498513664, 55055),\n",
              " (0.06609004997199124, 18159),\n",
              " (0.06507692238962333, 26115),\n",
              " (0.0648362078043082, 51770),\n",
              " (0.06247332912393511, 27059),\n",
              " (0.06221062136641625, 51145),\n",
              " (0.059274200081028024, 21167),\n",
              " (0.05904839613894917, 30111),\n",
              " (0.05787962865880037, 13117),\n",
              " (0.05714141789964629, 39153),\n",
              " (0.05609796750037022, 21091),\n",
              " (0.05513900646726532, 13145),\n",
              " (0.05483333072288252, 36071),\n",
              " (0.05376894027827717, 1009),\n",
              " (0.053750470137900304, 20177),\n",
              " (0.05362698002303436, 37119),\n",
              " (0.05260172656100942, 39083),\n",
              " (0.05159947050868069, 55089),\n",
              " (0.05133595376369873, 29021),\n",
              " (0.050677035674983335, 17185),\n",
              " (0.04897895547799643, 42133),\n",
              " (0.04816016575127558, 26119),\n",
              " (0.04778238200859635, 38055),\n",
              " (0.0477714241577835, 34037),\n",
              " (0.04660462163599869, 20031),\n",
              " (0.045845720887279034, 21117),\n",
              " (0.04561980438485022, 47187),\n",
              " (0.045295970622670205, 31121),\n",
              " (0.045054954438240945, 19185),\n",
              " (0.04504244881946768, 42025),\n",
              " (0.04429466822831844, 21191),\n",
              " (0.043872956458470065, 13059),\n",
              " (0.043322206416244416, 39027),\n",
              " (0.04326819126158109, 8067),\n",
              " (0.04317666688889048, 37125),\n",
              " (0.04292852435806767, 18063),\n",
              " (0.042599198837263846, 17011),\n",
              " (0.041391743291173254, 45021),\n",
              " (0.04128432449198492, 19017),\n",
              " (0.04064770029846707, 42037),\n",
              " (0.03933606639044201, 19051),\n",
              " (0.03851817425981797, 13219),\n",
              " (0.03736384508947361, 26057),\n",
              " (0.037327361676292733, 17027),\n",
              " (0.03723964170047886, 12119),\n",
              " (0.03722026227150588, 29065),\n",
              " (0.036944992393599184, 30039),\n",
              " (0.03549344316051416, 18117),\n",
              " (0.03510978123996826, 49047),\n",
              " (0.03434967329526381, 13159),\n",
              " (0.03362281157475323, 27123),\n",
              " (0.03348172787962707, 47001),\n",
              " (0.03326238988257574, 36021),\n",
              " (0.03288038489602018, 51143),\n",
              " (0.032544137327842226, 45059),\n",
              " (0.03249266283358263, 37003),\n",
              " (0.032324506922710584, 30057),\n",
              " (0.031781236327358166, 29073),\n",
              " (0.03154395694034663, 48121),\n",
              " (0.031478340769742784, 31135),\n",
              " (0.03093774259422094, 36053),\n",
              " (0.03006477666836327, 1097),\n",
              " (0.02878885496592728, 50019),\n",
              " (0.028567983906339176, 30045),\n",
              " (0.02817431728905716, 13185),\n",
              " (0.026604316933087322, 55085),\n",
              " (0.025760151052740272, 49051),\n",
              " (0.02560849505837317, 48435),\n",
              " (0.025384637709982536, 38069),\n",
              " (0.02435425785243102, 30049),\n",
              " (0.0241613925165308, 49041),\n",
              " (0.02403376082403854, 8015),\n",
              " (0.023673001269390592, 45041),\n",
              " (0.023361363689641618, 28061),\n",
              " (0.02310121253122162, 19043),\n",
              " (0.022924698152440814, 31147),\n",
              " (0.022661340042774113, 23021),\n",
              " (0.022520562631210175, 26133),\n",
              " (0.022502520351871978, 12071),\n",
              " (0.022287390945685655, 8001),\n",
              " (0.022237971195044955, 39159),\n",
              " (0.022122918386831003, 5137),\n",
              " (0.021962845909190794, 36031),\n",
              " (0.021892065170363295, 72141),\n",
              " (0.021580278532648395, 19031),\n",
              " (0.02144248588061562, 5061),\n",
              " (0.021439640004555387, 19049),\n",
              " (0.021236383583517565, 20145),\n",
              " (0.019878536402966884, 18155),\n",
              " (0.01980839780545067, 40057),\n",
              " (0.019233535646785555, 51610),\n",
              " (0.01861417185787685, 31127),\n",
              " (0.018365733175389587, 13227),\n",
              " (0.01831476561671512, 8049),\n",
              " (0.017078213255914833, 39077),\n",
              " (0.01613646544713192, 29005),\n",
              " (0.015295852807783462, 39121),\n",
              " (0.015279125113901858, 22123),\n",
              " (0.01507384070672603, 46023),\n",
              " (0.014832158768324654, 36065),\n",
              " (0.014624795030312296, 46017),\n",
              " (0.014335494988668769, 37031),\n",
              " (0.014318986983558005, 48297),\n",
              " (0.01429271700608963, 54085),\n",
              " (0.013750609856229347, 23019),\n",
              " (0.01362157972898384, 8011),\n",
              " (0.013420361180318776, 48457),\n",
              " (0.012690385848184276, 39039),\n",
              " (0.012459866775691704, 46107),\n",
              " (0.01193175103106525, 51015),\n",
              " (0.011754379447047335, 29081),\n",
              " (0.011682073192348447, 23029),\n",
              " (0.01068420018633582, 51600),\n",
              " (0.010605201921131905, 5083),\n",
              " (0.009745437212467328, 28121),\n",
              " (0.009282861984098091, 53071),\n",
              " (0.009098524884397285, 39025),\n",
              " (0.008372995857455918, 13193),\n",
              " (0.008183095533343426, 26035),\n",
              " (0.008055824264069417, 48429),\n",
              " (0.007749891630060164, 39147),\n",
              " (0.0065866456821972695, 12021),\n",
              " (0.006250772809089951, 72049),\n",
              " (0.006244987160077542, 17195),\n",
              " (0.004803103511457653, 51037),\n",
              " (0.004474828073699273, 51187),\n",
              " (0.004050697055172624, 13309),\n",
              " (0.003212825669011156, 55049),\n",
              " (0.0031612214283636766, 51800),\n",
              " (0.003139529825291352, 12019),\n",
              " (0.0025569079900859756, 28163),\n",
              " (0.0023079923467876616, 17007),\n",
              " (0.0020306305448386667, 33003),\n",
              " (0.0013055281001872953, 30041),\n",
              " (0.00118738028585547, 12085),\n",
              " (0.0009149753754703503, 6013),\n",
              " (0.0004664551426272175, 48143),\n",
              " (0.00030222770832354366, 13039),\n",
              " (0.00018939884979792855, 28051),\n",
              " (-3.064633668685857e-05, 19091),\n",
              " (-0.0003049925054858578, 48137),\n",
              " (-0.0003554465470695339, 17075),\n",
              " (-0.0005536249974930248, 31157),\n",
              " (-0.0006193737559061548, 13061),\n",
              " (-0.0009683005535495778, 48311),\n",
              " (-0.0012260827120162254, 47137),\n",
              " (-0.0012636351299843986, 72061),\n",
              " (-0.0017870905009947013, 13031),\n",
              " (-0.003328899079091759, 21001),\n",
              " (-0.0033669415360158845, 50013),\n",
              " (-0.0034333752398341823, 21187),\n",
              " (-0.0041611302729255145, 31185),\n",
              " (-0.004804321118004525, 54069),\n",
              " (-0.00508772022757553, 26069),\n",
              " (-0.005127300818406887, 22039),\n",
              " (-0.005140563735957747, 54101),\n",
              " (-0.005273430169864434, 39051),\n",
              " (-0.0054542540943567485, 54097),\n",
              " (-0.005665288508193628, 48033),\n",
              " (-0.005694053719629902, 48399),\n",
              " (-0.006379437266589806, 18083),\n",
              " (-0.0065427618681226235, 26079),\n",
              " (-0.006929046511097964, 26127),\n",
              " (-0.007135633374211554, 48317),\n",
              " (-0.007541587165346165, 5103),\n",
              " (-0.008020577766386755, 21231),\n",
              " (-0.008059071308998323, 48451),\n",
              " (-0.008071440070776235, 28081),\n",
              " (-0.008137223939099233, 6113),\n",
              " (-0.008309263381895818, 1133),\n",
              " (-0.009438733610989864, 46011),\n",
              " (-0.009612608111607262, 18093),\n",
              " (-0.010087194434201946, 20153),\n",
              " (-0.01038557026890921, 22079),\n",
              " (-0.010569963656743944, 5117),\n",
              " (-0.010757470041843149, 42069),\n",
              " (-0.011375413374282165, 35001),\n",
              " (-0.012181770380081046, 6055),\n",
              " (-0.01298521302476646, 40007),\n",
              " (-0.01304618904048143, 40095),\n",
              " (-0.013319008595219334, 5141),\n",
              " (-0.01372169030777129, 39019),\n",
              " (-0.01380274551872369, 55017),\n",
              " (-0.01477581418917395, 29127),\n",
              " (-0.01500392304763595, 13001),\n",
              " (-0.015108948294409867, 42075),\n",
              " (-0.015512507575543013, 27095),\n",
              " (-0.015674613826415145, 22029),\n",
              " (-0.01644881395302087, 28065),\n",
              " (-0.0167011814446206, 1091),\n",
              " (-0.016864483674144996, 5039),\n",
              " (-0.016942884582844417, 19163),\n",
              " (-0.01768985170906249, 26159),\n",
              " (-0.01782368738518797, 21209),\n",
              " (-0.01875714671282609, 47183),\n",
              " (-0.019732908261327422, 48027),\n",
              " (-0.02034280971095813, 39101),\n",
              " (-0.02036706719091841, 37137),\n",
              " (-0.02081584485480417, 38031),\n",
              " (-0.021018011984638166, 48279),\n",
              " (-0.021527497821119148, 48059),\n",
              " (-0.021660913486556296, 22063),\n",
              " (-0.02169178857344953, 48307),\n",
              " (-0.02177962341483221, 5013),\n",
              " (-0.0218260809879704, 29059),\n",
              " (-0.022314923620817526, 31027),\n",
              " (-0.022504384891041878, 18085),\n",
              " (-0.023319286815008576, 19143),\n",
              " (-0.02355799188947862, 72097),\n",
              " (-0.02360948749737472, 49013),\n",
              " (-0.023655460510555792, 12087),\n",
              " (-0.02404587049923336, 37159),\n",
              " (-0.026041733001204635, 48177),\n",
              " (-0.026053976948449686, 1035),\n",
              " (-0.026068247580652647, 51011),\n",
              " (-0.026529452651909095, 5097),\n",
              " (-0.026746484652748773, 21051),\n",
              " (-0.02706627981216137, 5021),\n",
              " (-0.027322918559174413, 20041),\n",
              " (-0.027482627866445435, 31023),\n",
              " (-0.027660809241499107, 40145),\n",
              " (-0.027883313612863926, 54013),\n",
              " (-0.027953526118589807, 9007),\n",
              " (-0.028960993120780487, 51660),\n",
              " (-0.029128317947859653, 20033),\n",
              " (-0.029212243763564058, 28049),\n",
              " (-0.029591210334466322, 39021),\n",
              " (-0.02961851723665028, 29205),\n",
              " (-0.030199492476514635, 31079),\n",
              " (-0.03020907559264979, 21195),\n",
              " (-0.030541375334710852, 19045),\n",
              " (-0.030683645398526922, 47075),\n",
              " (-0.03192996418426326, 39023),\n",
              " (-0.032319088237369245, 20185),\n",
              " (-0.03251899551190716, 31081),\n",
              " (-0.033105171794322014, 22059),\n",
              " (-0.033271832572114524, 18041),\n",
              " (-0.03360990369674986, 45017),\n",
              " (-0.03364633929295165, 47123),\n",
              " (-0.0340180108489788, 27073),\n",
              " (-0.03442292749167447, 1043),\n",
              " (-0.03486249866610444, 72081),\n",
              " (-0.035260862956864106, 21225),\n",
              " (-0.035391672222991485, 29119),\n",
              " (-0.035546102162060556, 21233),\n",
              " (-0.03584176509772047, 48185),\n",
              " (-0.03644328549988816, 13133),\n",
              " (-0.03757275773122995, 47139),\n",
              " (-0.03787814793935142, 20147),\n",
              " (-0.03974989493775426, 39127),\n",
              " (-0.04010672832789025, 20069),\n",
              " (-0.04021451408802064, 21053),\n",
              " (-0.040460528960354854, 55051),\n",
              " (-0.04096377869568294, 48251),\n",
              " (-0.04096506142597414, 8081),\n",
              " (-0.04108871418890938, 16049),\n",
              " (-0.041541634357169246, 37157),\n",
              " (-0.042451927058182785, 37145),\n",
              " (-0.04293539182941121, 30051),\n",
              " (-0.043184343124941786, 48077),\n",
              " (-0.04423598898446979, 21161),\n",
              " (-0.046329951805485686, 72003),\n",
              " (-0.046498900072777787, 21135),\n",
              " (-0.04701732501799199, 30077),\n",
              " (-0.04704665322446118, 22027),\n",
              " (-0.049016374272256594, 36073),\n",
              " (-0.050714327148526354, 5107),\n",
              " (-0.05131002406632257, 30071),\n",
              " (-0.05144631713792354, 8089),\n",
              " (-0.052298131283509706, 22127),\n",
              " (-0.05335047721988402, 21125),\n",
              " (-0.054128611317351985, 13087),\n",
              " (-0.054397296564967, 21025),\n",
              " (-0.05510055873195151, 48271),\n",
              " (-0.05526019927184796, 72153),\n",
              " (-0.05561555197453982, 13183),\n",
              " (-0.05685163338279402, 8023),\n",
              " (-0.056963131323479035, 48063),\n",
              " (-0.05768458963937567, 29201),\n",
              " (-0.05948304321756412, 22087),\n",
              " (-0.06031661543340052, 72107),\n",
              " (-0.06308797553637821, 72123),\n",
              " (-0.0638886097595596, 28103),\n",
              " (-0.0644972394231893, 8101),\n",
              " (-0.06476266792186318, 22037),\n",
              " (-0.06686129591459572, 53001),\n",
              " (-0.072194385676789, 48449),\n",
              " (-0.1012402558708147, 2180)]"
            ]
          },
          "metadata": {},
          "execution_count": 50
        }
      ],
      "source": [
        "ls_new"
      ]
    },
    {
      "cell_type": "code",
      "execution_count": 51,
      "metadata": {
        "id": "DcXbSFlZG1k0",
        "colab": {
          "base_uri": "https://localhost:8080/",
          "height": 206
        },
        "outputId": "f6dd7782-824c-497c-8ab2-79cf28530c83"
      },
      "outputs": [
        {
          "output_type": "execute_result",
          "data": {
            "text/plain": [
              "      FIPS  Completeness_pct SVI_CTGY  Census2019  tVaccMi  Incomplete_pop  \\\n",
              "139  32003              95.0        C     2266715     1622        113335.0   \n",
              "144  42101              94.8        D     1584064      628         82371.0   \n",
              "192  51041              79.0        A      352802      532         74088.0   \n",
              "268  51087              79.0        B      330818      545         69471.0   \n",
              "272  53033              96.0        B     2252782     1884         90111.0   \n",
              "\n",
              "     SVI_new  \n",
              "139        2  \n",
              "144        1  \n",
              "192        4  \n",
              "268        3  \n",
              "272        3  "
            ],
            "text/html": [
              "\n",
              "  <div id=\"df-f945f03b-4055-4eab-a687-3f287ed1f23b\">\n",
              "    <div class=\"colab-df-container\">\n",
              "      <div>\n",
              "<style scoped>\n",
              "    .dataframe tbody tr th:only-of-type {\n",
              "        vertical-align: middle;\n",
              "    }\n",
              "\n",
              "    .dataframe tbody tr th {\n",
              "        vertical-align: top;\n",
              "    }\n",
              "\n",
              "    .dataframe thead th {\n",
              "        text-align: right;\n",
              "    }\n",
              "</style>\n",
              "<table border=\"1\" class=\"dataframe\">\n",
              "  <thead>\n",
              "    <tr style=\"text-align: right;\">\n",
              "      <th></th>\n",
              "      <th>FIPS</th>\n",
              "      <th>Completeness_pct</th>\n",
              "      <th>SVI_CTGY</th>\n",
              "      <th>Census2019</th>\n",
              "      <th>tVaccMi</th>\n",
              "      <th>Incomplete_pop</th>\n",
              "      <th>SVI_new</th>\n",
              "    </tr>\n",
              "  </thead>\n",
              "  <tbody>\n",
              "    <tr>\n",
              "      <th>139</th>\n",
              "      <td>32003</td>\n",
              "      <td>95.0</td>\n",
              "      <td>C</td>\n",
              "      <td>2266715</td>\n",
              "      <td>1622</td>\n",
              "      <td>113335.0</td>\n",
              "      <td>2</td>\n",
              "    </tr>\n",
              "    <tr>\n",
              "      <th>144</th>\n",
              "      <td>42101</td>\n",
              "      <td>94.8</td>\n",
              "      <td>D</td>\n",
              "      <td>1584064</td>\n",
              "      <td>628</td>\n",
              "      <td>82371.0</td>\n",
              "      <td>1</td>\n",
              "    </tr>\n",
              "    <tr>\n",
              "      <th>192</th>\n",
              "      <td>51041</td>\n",
              "      <td>79.0</td>\n",
              "      <td>A</td>\n",
              "      <td>352802</td>\n",
              "      <td>532</td>\n",
              "      <td>74088.0</td>\n",
              "      <td>4</td>\n",
              "    </tr>\n",
              "    <tr>\n",
              "      <th>268</th>\n",
              "      <td>51087</td>\n",
              "      <td>79.0</td>\n",
              "      <td>B</td>\n",
              "      <td>330818</td>\n",
              "      <td>545</td>\n",
              "      <td>69471.0</td>\n",
              "      <td>3</td>\n",
              "    </tr>\n",
              "    <tr>\n",
              "      <th>272</th>\n",
              "      <td>53033</td>\n",
              "      <td>96.0</td>\n",
              "      <td>B</td>\n",
              "      <td>2252782</td>\n",
              "      <td>1884</td>\n",
              "      <td>90111.0</td>\n",
              "      <td>3</td>\n",
              "    </tr>\n",
              "  </tbody>\n",
              "</table>\n",
              "</div>\n",
              "      <button class=\"colab-df-convert\" onclick=\"convertToInteractive('df-f945f03b-4055-4eab-a687-3f287ed1f23b')\"\n",
              "              title=\"Convert this dataframe to an interactive table.\"\n",
              "              style=\"display:none;\">\n",
              "        \n",
              "  <svg xmlns=\"http://www.w3.org/2000/svg\" height=\"24px\"viewBox=\"0 0 24 24\"\n",
              "       width=\"24px\">\n",
              "    <path d=\"M0 0h24v24H0V0z\" fill=\"none\"/>\n",
              "    <path d=\"M18.56 5.44l.94 2.06.94-2.06 2.06-.94-2.06-.94-.94-2.06-.94 2.06-2.06.94zm-11 1L8.5 8.5l.94-2.06 2.06-.94-2.06-.94L8.5 2.5l-.94 2.06-2.06.94zm10 10l.94 2.06.94-2.06 2.06-.94-2.06-.94-.94-2.06-.94 2.06-2.06.94z\"/><path d=\"M17.41 7.96l-1.37-1.37c-.4-.4-.92-.59-1.43-.59-.52 0-1.04.2-1.43.59L10.3 9.45l-7.72 7.72c-.78.78-.78 2.05 0 2.83L4 21.41c.39.39.9.59 1.41.59.51 0 1.02-.2 1.41-.59l7.78-7.78 2.81-2.81c.8-.78.8-2.07 0-2.86zM5.41 20L4 18.59l7.72-7.72 1.47 1.35L5.41 20z\"/>\n",
              "  </svg>\n",
              "      </button>\n",
              "      \n",
              "  <style>\n",
              "    .colab-df-container {\n",
              "      display:flex;\n",
              "      flex-wrap:wrap;\n",
              "      gap: 12px;\n",
              "    }\n",
              "\n",
              "    .colab-df-convert {\n",
              "      background-color: #E8F0FE;\n",
              "      border: none;\n",
              "      border-radius: 50%;\n",
              "      cursor: pointer;\n",
              "      display: none;\n",
              "      fill: #1967D2;\n",
              "      height: 32px;\n",
              "      padding: 0 0 0 0;\n",
              "      width: 32px;\n",
              "    }\n",
              "\n",
              "    .colab-df-convert:hover {\n",
              "      background-color: #E2EBFA;\n",
              "      box-shadow: 0px 1px 2px rgba(60, 64, 67, 0.3), 0px 1px 3px 1px rgba(60, 64, 67, 0.15);\n",
              "      fill: #174EA6;\n",
              "    }\n",
              "\n",
              "    [theme=dark] .colab-df-convert {\n",
              "      background-color: #3B4455;\n",
              "      fill: #D2E3FC;\n",
              "    }\n",
              "\n",
              "    [theme=dark] .colab-df-convert:hover {\n",
              "      background-color: #434B5C;\n",
              "      box-shadow: 0px 1px 3px 1px rgba(0, 0, 0, 0.15);\n",
              "      filter: drop-shadow(0px 1px 2px rgba(0, 0, 0, 0.3));\n",
              "      fill: #FFFFFF;\n",
              "    }\n",
              "  </style>\n",
              "\n",
              "      <script>\n",
              "        const buttonEl =\n",
              "          document.querySelector('#df-f945f03b-4055-4eab-a687-3f287ed1f23b button.colab-df-convert');\n",
              "        buttonEl.style.display =\n",
              "          google.colab.kernel.accessAllowed ? 'block' : 'none';\n",
              "\n",
              "        async function convertToInteractive(key) {\n",
              "          const element = document.querySelector('#df-f945f03b-4055-4eab-a687-3f287ed1f23b');\n",
              "          const dataTable =\n",
              "            await google.colab.kernel.invokeFunction('convertToInteractive',\n",
              "                                                     [key], {});\n",
              "          if (!dataTable) return;\n",
              "\n",
              "          const docLinkHtml = 'Like what you see? Visit the ' +\n",
              "            '<a target=\"_blank\" href=https://colab.research.google.com/notebooks/data_table.ipynb>data table notebook</a>'\n",
              "            + ' to learn more about interactive tables.';\n",
              "          element.innerHTML = '';\n",
              "          dataTable['output_type'] = 'display_data';\n",
              "          await google.colab.output.renderOutput(dataTable, element);\n",
              "          const docLink = document.createElement('div');\n",
              "          docLink.innerHTML = docLinkHtml;\n",
              "          element.appendChild(docLink);\n",
              "        }\n",
              "      </script>\n",
              "    </div>\n",
              "  </div>\n",
              "  "
            ]
          },
          "metadata": {},
          "execution_count": 51
        }
      ],
      "source": [
        "df_new[ df_new['FIPS'].isin([ls_new[i][1] for i in range(5)])]"
      ]
    },
    {
      "cell_type": "code",
      "execution_count": 52,
      "metadata": {
        "id": "XxzxbkjTP502",
        "colab": {
          "base_uri": "https://localhost:8080/"
        },
        "outputId": "09616871-659f-49ef-80eb-383365bbd076"
      },
      "outputs": [
        {
          "output_type": "execute_result",
          "data": {
            "text/plain": [
              "[32003, 51041, 53033, 51087, 42101]"
            ]
          },
          "metadata": {},
          "execution_count": 52
        }
      ],
      "source": [
        "[ls_new[i][1] for i in range(5)]"
      ]
    },
    {
      "cell_type": "code",
      "execution_count": 53,
      "metadata": {
        "id": "htP4_kbmQdrZ",
        "colab": {
          "base_uri": "https://localhost:8080/",
          "height": 310
        },
        "outputId": "12e16feb-0deb-44ee-f292-060fc491d52f"
      },
      "outputs": [
        {
          "output_type": "stream",
          "name": "stderr",
          "text": [
            "/usr/local/lib/python3.7/dist-packages/ipykernel_launcher.py:3: SettingWithCopyWarning: \n",
            "A value is trying to be set on a copy of a slice from a DataFrame.\n",
            "Try using .loc[row_indexer,col_indexer] = value instead\n",
            "\n",
            "See the caveats in the documentation: https://pandas.pydata.org/pandas-docs/stable/user_guide/indexing.html#returning-a-view-versus-a-copy\n",
            "  This is separate from the ipykernel package so we can avoid doing imports until\n"
          ]
        },
        {
          "output_type": "execute_result",
          "data": {
            "text/plain": [
              "    FIPS  Completeness_pct SVI_CTGY  Census2019  tVaccMi  Incomplete_pop  \\\n",
              "0  55089              96.8        A       89221      395          2855.0   \n",
              "1   1035              92.5        D       12067      491           905.0   \n",
              "2   5097              90.5        C        8986      602           853.0   \n",
              "3   5107              90.5        D       17782      468          1689.0   \n",
              "4   6001              97.6        B     1671329     1957         40111.0   \n",
              "\n",
              "   SVI_new  \n",
              "0        4  \n",
              "1        1  \n",
              "2        2  \n",
              "3        1  \n",
              "4        3  "
            ],
            "text/html": [
              "\n",
              "  <div id=\"df-7cf63ab2-3ad2-4344-831b-4d985514e334\">\n",
              "    <div class=\"colab-df-container\">\n",
              "      <div>\n",
              "<style scoped>\n",
              "    .dataframe tbody tr th:only-of-type {\n",
              "        vertical-align: middle;\n",
              "    }\n",
              "\n",
              "    .dataframe tbody tr th {\n",
              "        vertical-align: top;\n",
              "    }\n",
              "\n",
              "    .dataframe thead th {\n",
              "        text-align: right;\n",
              "    }\n",
              "</style>\n",
              "<table border=\"1\" class=\"dataframe\">\n",
              "  <thead>\n",
              "    <tr style=\"text-align: right;\">\n",
              "      <th></th>\n",
              "      <th>FIPS</th>\n",
              "      <th>Completeness_pct</th>\n",
              "      <th>SVI_CTGY</th>\n",
              "      <th>Census2019</th>\n",
              "      <th>tVaccMi</th>\n",
              "      <th>Incomplete_pop</th>\n",
              "      <th>SVI_new</th>\n",
              "    </tr>\n",
              "  </thead>\n",
              "  <tbody>\n",
              "    <tr>\n",
              "      <th>0</th>\n",
              "      <td>55089</td>\n",
              "      <td>96.8</td>\n",
              "      <td>A</td>\n",
              "      <td>89221</td>\n",
              "      <td>395</td>\n",
              "      <td>2855.0</td>\n",
              "      <td>4</td>\n",
              "    </tr>\n",
              "    <tr>\n",
              "      <th>1</th>\n",
              "      <td>1035</td>\n",
              "      <td>92.5</td>\n",
              "      <td>D</td>\n",
              "      <td>12067</td>\n",
              "      <td>491</td>\n",
              "      <td>905.0</td>\n",
              "      <td>1</td>\n",
              "    </tr>\n",
              "    <tr>\n",
              "      <th>2</th>\n",
              "      <td>5097</td>\n",
              "      <td>90.5</td>\n",
              "      <td>C</td>\n",
              "      <td>8986</td>\n",
              "      <td>602</td>\n",
              "      <td>853.0</td>\n",
              "      <td>2</td>\n",
              "    </tr>\n",
              "    <tr>\n",
              "      <th>3</th>\n",
              "      <td>5107</td>\n",
              "      <td>90.5</td>\n",
              "      <td>D</td>\n",
              "      <td>17782</td>\n",
              "      <td>468</td>\n",
              "      <td>1689.0</td>\n",
              "      <td>1</td>\n",
              "    </tr>\n",
              "    <tr>\n",
              "      <th>4</th>\n",
              "      <td>6001</td>\n",
              "      <td>97.6</td>\n",
              "      <td>B</td>\n",
              "      <td>1671329</td>\n",
              "      <td>1957</td>\n",
              "      <td>40111.0</td>\n",
              "      <td>3</td>\n",
              "    </tr>\n",
              "  </tbody>\n",
              "</table>\n",
              "</div>\n",
              "      <button class=\"colab-df-convert\" onclick=\"convertToInteractive('df-7cf63ab2-3ad2-4344-831b-4d985514e334')\"\n",
              "              title=\"Convert this dataframe to an interactive table.\"\n",
              "              style=\"display:none;\">\n",
              "        \n",
              "  <svg xmlns=\"http://www.w3.org/2000/svg\" height=\"24px\"viewBox=\"0 0 24 24\"\n",
              "       width=\"24px\">\n",
              "    <path d=\"M0 0h24v24H0V0z\" fill=\"none\"/>\n",
              "    <path d=\"M18.56 5.44l.94 2.06.94-2.06 2.06-.94-2.06-.94-.94-2.06-.94 2.06-2.06.94zm-11 1L8.5 8.5l.94-2.06 2.06-.94-2.06-.94L8.5 2.5l-.94 2.06-2.06.94zm10 10l.94 2.06.94-2.06 2.06-.94-2.06-.94-.94-2.06-.94 2.06-2.06.94z\"/><path d=\"M17.41 7.96l-1.37-1.37c-.4-.4-.92-.59-1.43-.59-.52 0-1.04.2-1.43.59L10.3 9.45l-7.72 7.72c-.78.78-.78 2.05 0 2.83L4 21.41c.39.39.9.59 1.41.59.51 0 1.02-.2 1.41-.59l7.78-7.78 2.81-2.81c.8-.78.8-2.07 0-2.86zM5.41 20L4 18.59l7.72-7.72 1.47 1.35L5.41 20z\"/>\n",
              "  </svg>\n",
              "      </button>\n",
              "      \n",
              "  <style>\n",
              "    .colab-df-container {\n",
              "      display:flex;\n",
              "      flex-wrap:wrap;\n",
              "      gap: 12px;\n",
              "    }\n",
              "\n",
              "    .colab-df-convert {\n",
              "      background-color: #E8F0FE;\n",
              "      border: none;\n",
              "      border-radius: 50%;\n",
              "      cursor: pointer;\n",
              "      display: none;\n",
              "      fill: #1967D2;\n",
              "      height: 32px;\n",
              "      padding: 0 0 0 0;\n",
              "      width: 32px;\n",
              "    }\n",
              "\n",
              "    .colab-df-convert:hover {\n",
              "      background-color: #E2EBFA;\n",
              "      box-shadow: 0px 1px 2px rgba(60, 64, 67, 0.3), 0px 1px 3px 1px rgba(60, 64, 67, 0.15);\n",
              "      fill: #174EA6;\n",
              "    }\n",
              "\n",
              "    [theme=dark] .colab-df-convert {\n",
              "      background-color: #3B4455;\n",
              "      fill: #D2E3FC;\n",
              "    }\n",
              "\n",
              "    [theme=dark] .colab-df-convert:hover {\n",
              "      background-color: #434B5C;\n",
              "      box-shadow: 0px 1px 3px 1px rgba(0, 0, 0, 0.15);\n",
              "      filter: drop-shadow(0px 1px 2px rgba(0, 0, 0, 0.3));\n",
              "      fill: #FFFFFF;\n",
              "    }\n",
              "  </style>\n",
              "\n",
              "      <script>\n",
              "        const buttonEl =\n",
              "          document.querySelector('#df-7cf63ab2-3ad2-4344-831b-4d985514e334 button.colab-df-convert');\n",
              "        buttonEl.style.display =\n",
              "          google.colab.kernel.accessAllowed ? 'block' : 'none';\n",
              "\n",
              "        async function convertToInteractive(key) {\n",
              "          const element = document.querySelector('#df-7cf63ab2-3ad2-4344-831b-4d985514e334');\n",
              "          const dataTable =\n",
              "            await google.colab.kernel.invokeFunction('convertToInteractive',\n",
              "                                                     [key], {});\n",
              "          if (!dataTable) return;\n",
              "\n",
              "          const docLinkHtml = 'Like what you see? Visit the ' +\n",
              "            '<a target=\"_blank\" href=https://colab.research.google.com/notebooks/data_table.ipynb>data table notebook</a>'\n",
              "            + ' to learn more about interactive tables.';\n",
              "          element.innerHTML = '';\n",
              "          dataTable['output_type'] = 'display_data';\n",
              "          await google.colab.output.renderOutput(dataTable, element);\n",
              "          const docLink = document.createElement('div');\n",
              "          docLink.innerHTML = docLinkHtml;\n",
              "          element.appendChild(docLink);\n",
              "        }\n",
              "      </script>\n",
              "    </div>\n",
              "  </div>\n",
              "  "
            ]
          },
          "metadata": {},
          "execution_count": 53
        }
      ],
      "source": [
        "df_new = df[ df['FIPS'].isin(df['FIPS'].unique()[:3000])]\n",
        "dic = {'A':4, 'B':3, 'C':2, 'D':1}\n",
        "df_new['SVI_new'] = df_new['SVI_CTGY'].replace(dic)\n",
        "df_new.head()"
      ]
    },
    {
      "cell_type": "code",
      "source": [
        "def fun(vec, data=df_new): # vec -vector of length 3000(number of county selected)\n",
        "  popIncomplete = sum(vec*data['Incomplete_pop']) # sum because we need one single value instead of 300 different value\n",
        "  tVaccMi = sum(vec*data['tVaccMi'])\n",
        "  svi = sum(vec*data['SVI_new'])\n",
        "  return -1*((popIncomplete*svi)/tVaccMi)"
      ],
      "metadata": {
        "id": "0tIpToX8xQR3"
      },
      "execution_count": 54,
      "outputs": []
    },
    {
      "cell_type": "code",
      "source": [
        "from scipy.optimize import minimize\n",
        "import numpy as np\n",
        "import random\n",
        "\n",
        "n = df_new['FIPS'].nunique()\n",
        "bnd = ((0., 0.3) for i in range(n)) # fix the maximum and minimum value\n",
        "\n",
        "def con(vec):   # sum of all the weights should be 1 constraints # tolrernce how much accuracy(percesion)\n",
        "  return sum(vec)-1\n",
        "\n",
        "cons = [{'type': 'eq', 'fun':con}] # define constraints\n",
        "\n",
        "result = minimize(fun,x0 = np.random.rand(n)/10., bounds = bnd, constraints=cons, method='trust-constr',hessp=0,tol=1e-5, options={'maxiter':10})"
      ],
      "metadata": {
        "id": "WtJ98ulHxadr",
        "colab": {
          "base_uri": "https://localhost:8080/"
        },
        "outputId": "b6819120-9992-4f38-aede-570eb373ec1c"
      },
      "execution_count": 64,
      "outputs": [
        {
          "output_type": "stream",
          "name": "stderr",
          "text": [
            "/usr/local/lib/python3.7/dist-packages/scipy/optimize/_hessian_update_strategy.py:187: UserWarning: delta_grad == 0.0. Check if the approximated function is linear. If the function is linear better results can be obtained by defining the Hessian as zero instead of using quasi-Newton approximations.\n",
            "  'approximations.', UserWarning)\n"
          ]
        }
      ]
    },
    {
      "cell_type": "code",
      "source": [
        "sum(result['x']), result['x']"
      ],
      "metadata": {
        "id": "rEPM2T06xxfM",
        "colab": {
          "base_uri": "https://localhost:8080/"
        },
        "outputId": "35729849-dc89-4a33-ee8e-0f81aa8bc986"
      },
      "execution_count": 65,
      "outputs": [
        {
          "output_type": "execute_result",
          "data": {
            "text/plain": [
              "(1.272461181312123,\n",
              " array([ 0.22070704, -0.06224349, -0.06298974, ...,  0.06149426,\n",
              "        -0.05605095,  0.07122997]))"
            ]
          },
          "metadata": {},
          "execution_count": 65
        }
      ]
    },
    {
      "cell_type": "code",
      "source": [
        ""
      ],
      "metadata": {
        "id": "kmQyf57D4ouH"
      },
      "execution_count": null,
      "outputs": []
    }
  ],
  "metadata": {
    "colab": {
      "collapsed_sections": [],
      "name": "optimization",
      "provenance": []
    },
    "kernelspec": {
      "display_name": "Python 3",
      "name": "python3"
    },
    "language_info": {
      "name": "python"
    }
  },
  "nbformat": 4,
  "nbformat_minor": 0
}